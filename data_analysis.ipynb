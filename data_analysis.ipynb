{
 "cells": [
  {
   "cell_type": "markdown",
   "id": "b2027b5e-e41c-478f-9f62-0401792651f6",
   "metadata": {},
   "source": [
    "Author: Emily Wong \\\n",
    "December 21, 2023"
   ]
  },
  {
   "cell_type": "markdown",
   "id": "c9c7e1be-5ddd-4911-9a86-03519a5e0df4",
   "metadata": {},
   "source": [
    "# 1. Import libraries and data"
   ]
  },
  {
   "cell_type": "code",
   "execution_count": 1,
   "id": "142dd59b-6f0c-4115-8039-179331042940",
   "metadata": {},
   "outputs": [],
   "source": [
    "import warnings\n",
    "warnings.filterwarnings('ignore')"
   ]
  },
  {
   "cell_type": "code",
   "execution_count": 2,
   "id": "b950f8e6-ef6f-46a8-acdf-26659e5d731e",
   "metadata": {
    "tags": []
   },
   "outputs": [],
   "source": [
    "# Data wrangling\n",
    "import pandas as pd\n",
    "import numpy as np\n",
    "from numpy.random import uniform, normal, seed"
   ]
  },
  {
   "cell_type": "code",
   "execution_count": 3,
   "id": "c1d2fd10-7b42-4007-aa30-fd8b36eee18e",
   "metadata": {
    "tags": []
   },
   "outputs": [],
   "source": [
    "data = pd.read_excel(\"cleaned data.xlsx\")\n",
    "data = data[['pmad','ethnic_group','race','marital_status','age_at_delivery',\n",
    "             'veteran_status','interpreter_required_yn','zip','insurance',\n",
    "             'hist_mad','hist_preterm','preterm','csection']]"
   ]
  },
  {
   "cell_type": "code",
   "execution_count": 4,
   "id": "beb2829b-4b79-4540-9de3-963432722234",
   "metadata": {
    "tags": []
   },
   "outputs": [],
   "source": [
    "data = data.dropna()            # keep only complete data (for now)\n",
    "data = pd.get_dummies(data)     # create one-hot vectors\n",
    "data = data.sample(len(data))   # randomly shuffle rows"
   ]
  },
  {
   "cell_type": "code",
   "execution_count": 5,
   "id": "d7304b8d-d3fb-4a48-b6fd-6e9b239a0e80",
   "metadata": {
    "tags": []
   },
   "outputs": [],
   "source": [
    "# Machine learning\n",
    "import sklearn\n",
    "from sklearn.ensemble import RandomForestClassifier, GradientBoostingClassifier\n",
    "from sklearn.neural_network import MLPClassifier\n",
    "from sklearn.metrics import accuracy_score, confusion_matrix, precision_score, recall_score, ConfusionMatrixDisplay\n",
    "from sklearn.model_selection import RandomizedSearchCV, train_test_split\n",
    "import scipy\n",
    "from scipy.stats import randint\n",
    "\n",
    "# Tree Visualisation\n",
    "from sklearn.tree import export_graphviz\n",
    "from IPython.display import Image\n",
    "import graphviz\n",
    "import matplotlib.pyplot as plt"
   ]
  },
  {
   "cell_type": "code",
   "execution_count": 6,
   "id": "5de1a0c8-3aa4-411b-aff0-bda2fd4a2f94",
   "metadata": {
    "tags": []
   },
   "outputs": [],
   "source": [
    "# TPOT2\n",
    "from dask.distributed import Client, LocalCluster\n",
    "import tpot2"
   ]
  },
  {
   "cell_type": "code",
   "execution_count": 7,
   "id": "619b3911-b7c8-4814-a118-04c2c8b763ef",
   "metadata": {
    "tags": []
   },
   "outputs": [],
   "source": [
    "# Fairness metrics\n",
    "import fairlearn\n",
    "from fairlearn.metrics import demographic_parity_difference, demographic_parity_ratio, equalized_odds_difference, equalized_odds_ratio"
   ]
  },
  {
   "cell_type": "markdown",
   "id": "17d3b49b-b7e2-4d08-bbc6-2aaeb0051d3d",
   "metadata": {},
   "source": [
    "The __demographic parity difference__ of 0 means that all groups have the same selection rate. For multiple groups, average across all pairwise differences. Ranges between 0 and 1.\n",
    "\n",
    "The __demographic parity ratio__ of 1 means that all groups have the same selection rate.\n",
    "\n",
    "The __equalized odds difference__ of 0 means that all groups have the same true positive, true negative, false positive, and false negative rates.\n",
    "\n",
    "The __equalized odds ratio__ of 1 means that all groups have the same true positive, true negative, false positive, and false negative rates."
   ]
  },
  {
   "cell_type": "markdown",
   "id": "5c8279fc-a583-4003-8370-3156c6b3e51b",
   "metadata": {},
   "source": [
    "# 2. Handle imbalanced data"
   ]
  },
  {
   "cell_type": "code",
   "execution_count": 8,
   "id": "087ff68c-19b5-4347-b37d-3d188d7880d8",
   "metadata": {
    "tags": []
   },
   "outputs": [
    {
     "data": {
      "text/plain": [
       "(29790, 783)"
      ]
     },
     "execution_count": 8,
     "metadata": {},
     "output_type": "execute_result"
    }
   ],
   "source": [
    "# class count\n",
    "healthy_count, pmad_count = data['pmad'].value_counts()\n",
    "healthy_count, pmad_count"
   ]
  },
  {
   "cell_type": "code",
   "execution_count": 9,
   "id": "2c1ac463-dc70-4d55-85de-876187f812d6",
   "metadata": {
    "tags": []
   },
   "outputs": [],
   "source": [
    "# Separate classes\n",
    "healthy = data[data['pmad'] == 0]\n",
    "pmad = data[data['pmad'] == 1]"
   ]
  },
  {
   "cell_type": "markdown",
   "id": "fdf9eeca-143a-43ef-8267-f856033ef710",
   "metadata": {},
   "source": [
    "## 2.1. Over Sampling Minority (PMAD)"
   ]
  },
  {
   "cell_type": "code",
   "execution_count": 10,
   "id": "5291f2bc-3b73-4094-8e14-16008beb8af4",
   "metadata": {
    "tags": []
   },
   "outputs": [
    {
     "name": "stdout",
     "output_type": "stream",
     "text": [
      "(59580, 324)\n"
     ]
    }
   ],
   "source": [
    "seed(0)\n",
    "pmad_over = pmad.sample(healthy_count, replace=True)\n",
    "data_over = pd.concat([pmad_over,healthy], axis =0)\n",
    "print(data_over.shape)"
   ]
  },
  {
   "cell_type": "code",
   "execution_count": 11,
   "id": "6069c1fe-7172-496a-a8fc-f78922bd3de9",
   "metadata": {
    "tags": []
   },
   "outputs": [],
   "source": [
    "# X, y\n",
    "X = data_over.drop('pmad', axis=1)\n",
    "y = data_over[['pmad']]"
   ]
  },
  {
   "cell_type": "code",
   "execution_count": 12,
   "id": "3269b28f-b051-4aa1-b32d-b86e7f15e931",
   "metadata": {
    "tags": []
   },
   "outputs": [],
   "source": [
    "# Split the data into training and test sets\n",
    "seed(0)\n",
    "X_train, X_test, y_train, y_test = train_test_split(X, y, train_size=0.75, test_size=0.25)"
   ]
  },
  {
   "cell_type": "code",
   "execution_count": 13,
   "id": "3ac377b0-d3c5-40f9-a2ef-2864e389da05",
   "metadata": {
    "tags": []
   },
   "outputs": [],
   "source": [
    "# Sensitive features\n",
    "race_feature = X_test[['race_American Indian or Alaska Native',\n",
    "                       'race_Asian','race_Black or African American',\n",
    "                       'race_Native Hawaiian or Other Pacific Islander',\n",
    "                       'race_Multiracial','race_Other','race_Unknown','race_White']]"
   ]
  },
  {
   "cell_type": "markdown",
   "id": "0c9262e3-6446-4cf8-90af-c9ee919be957",
   "metadata": {},
   "source": [
    "### 2.1.1. Over: Random Forest"
   ]
  },
  {
   "cell_type": "code",
   "execution_count": 14,
   "id": "d0c1b873-e142-4eb2-b121-22b833fa4e01",
   "metadata": {
    "tags": []
   },
   "outputs": [
    {
     "data": {
      "text/html": [
       "<style>#sk-container-id-1 {color: black;}#sk-container-id-1 pre{padding: 0;}#sk-container-id-1 div.sk-toggleable {background-color: white;}#sk-container-id-1 label.sk-toggleable__label {cursor: pointer;display: block;width: 100%;margin-bottom: 0;padding: 0.3em;box-sizing: border-box;text-align: center;}#sk-container-id-1 label.sk-toggleable__label-arrow:before {content: \"▸\";float: left;margin-right: 0.25em;color: #696969;}#sk-container-id-1 label.sk-toggleable__label-arrow:hover:before {color: black;}#sk-container-id-1 div.sk-estimator:hover label.sk-toggleable__label-arrow:before {color: black;}#sk-container-id-1 div.sk-toggleable__content {max-height: 0;max-width: 0;overflow: hidden;text-align: left;background-color: #f0f8ff;}#sk-container-id-1 div.sk-toggleable__content pre {margin: 0.2em;color: black;border-radius: 0.25em;background-color: #f0f8ff;}#sk-container-id-1 input.sk-toggleable__control:checked~div.sk-toggleable__content {max-height: 200px;max-width: 100%;overflow: auto;}#sk-container-id-1 input.sk-toggleable__control:checked~label.sk-toggleable__label-arrow:before {content: \"▾\";}#sk-container-id-1 div.sk-estimator input.sk-toggleable__control:checked~label.sk-toggleable__label {background-color: #d4ebff;}#sk-container-id-1 div.sk-label input.sk-toggleable__control:checked~label.sk-toggleable__label {background-color: #d4ebff;}#sk-container-id-1 input.sk-hidden--visually {border: 0;clip: rect(1px 1px 1px 1px);clip: rect(1px, 1px, 1px, 1px);height: 1px;margin: -1px;overflow: hidden;padding: 0;position: absolute;width: 1px;}#sk-container-id-1 div.sk-estimator {font-family: monospace;background-color: #f0f8ff;border: 1px dotted black;border-radius: 0.25em;box-sizing: border-box;margin-bottom: 0.5em;}#sk-container-id-1 div.sk-estimator:hover {background-color: #d4ebff;}#sk-container-id-1 div.sk-parallel-item::after {content: \"\";width: 100%;border-bottom: 1px solid gray;flex-grow: 1;}#sk-container-id-1 div.sk-label:hover label.sk-toggleable__label {background-color: #d4ebff;}#sk-container-id-1 div.sk-serial::before {content: \"\";position: absolute;border-left: 1px solid gray;box-sizing: border-box;top: 0;bottom: 0;left: 50%;z-index: 0;}#sk-container-id-1 div.sk-serial {display: flex;flex-direction: column;align-items: center;background-color: white;padding-right: 0.2em;padding-left: 0.2em;position: relative;}#sk-container-id-1 div.sk-item {position: relative;z-index: 1;}#sk-container-id-1 div.sk-parallel {display: flex;align-items: stretch;justify-content: center;background-color: white;position: relative;}#sk-container-id-1 div.sk-item::before, #sk-container-id-1 div.sk-parallel-item::before {content: \"\";position: absolute;border-left: 1px solid gray;box-sizing: border-box;top: 0;bottom: 0;left: 50%;z-index: -1;}#sk-container-id-1 div.sk-parallel-item {display: flex;flex-direction: column;z-index: 1;position: relative;background-color: white;}#sk-container-id-1 div.sk-parallel-item:first-child::after {align-self: flex-end;width: 50%;}#sk-container-id-1 div.sk-parallel-item:last-child::after {align-self: flex-start;width: 50%;}#sk-container-id-1 div.sk-parallel-item:only-child::after {width: 0;}#sk-container-id-1 div.sk-dashed-wrapped {border: 1px dashed gray;margin: 0 0.4em 0.5em 0.4em;box-sizing: border-box;padding-bottom: 0.4em;background-color: white;}#sk-container-id-1 div.sk-label label {font-family: monospace;font-weight: bold;display: inline-block;line-height: 1.2em;}#sk-container-id-1 div.sk-label-container {text-align: center;}#sk-container-id-1 div.sk-container {/* jupyter's `normalize.less` sets `[hidden] { display: none; }` but bootstrap.min.css set `[hidden] { display: none !important; }` so we also need the `!important` here to be able to override the default hidden behavior on the sphinx rendered scikit-learn.org. See: https://github.com/scikit-learn/scikit-learn/issues/21755 */display: inline-block !important;position: relative;}#sk-container-id-1 div.sk-text-repr-fallback {display: none;}</style><div id=\"sk-container-id-1\" class=\"sk-top-container\"><div class=\"sk-text-repr-fallback\"><pre>RandomizedSearchCV(cv=5, estimator=RandomForestClassifier(), n_iter=5,\n",
       "                   param_distributions={&#x27;max_depth&#x27;: &lt;scipy.stats._distn_infrastructure.rv_discrete_frozen object at 0x2935bbad0&gt;,\n",
       "                                        &#x27;n_estimators&#x27;: &lt;scipy.stats._distn_infrastructure.rv_discrete_frozen object at 0x29359a950&gt;})</pre><b>In a Jupyter environment, please rerun this cell to show the HTML representation or trust the notebook. <br />On GitHub, the HTML representation is unable to render, please try loading this page with nbviewer.org.</b></div><div class=\"sk-container\" hidden><div class=\"sk-item sk-dashed-wrapped\"><div class=\"sk-label-container\"><div class=\"sk-label sk-toggleable\"><input class=\"sk-toggleable__control sk-hidden--visually\" id=\"sk-estimator-id-1\" type=\"checkbox\" ><label for=\"sk-estimator-id-1\" class=\"sk-toggleable__label sk-toggleable__label-arrow\">RandomizedSearchCV</label><div class=\"sk-toggleable__content\"><pre>RandomizedSearchCV(cv=5, estimator=RandomForestClassifier(), n_iter=5,\n",
       "                   param_distributions={&#x27;max_depth&#x27;: &lt;scipy.stats._distn_infrastructure.rv_discrete_frozen object at 0x2935bbad0&gt;,\n",
       "                                        &#x27;n_estimators&#x27;: &lt;scipy.stats._distn_infrastructure.rv_discrete_frozen object at 0x29359a950&gt;})</pre></div></div></div><div class=\"sk-parallel\"><div class=\"sk-parallel-item\"><div class=\"sk-item\"><div class=\"sk-label-container\"><div class=\"sk-label sk-toggleable\"><input class=\"sk-toggleable__control sk-hidden--visually\" id=\"sk-estimator-id-2\" type=\"checkbox\" ><label for=\"sk-estimator-id-2\" class=\"sk-toggleable__label sk-toggleable__label-arrow\">estimator: RandomForestClassifier</label><div class=\"sk-toggleable__content\"><pre>RandomForestClassifier()</pre></div></div></div><div class=\"sk-serial\"><div class=\"sk-item\"><div class=\"sk-estimator sk-toggleable\"><input class=\"sk-toggleable__control sk-hidden--visually\" id=\"sk-estimator-id-3\" type=\"checkbox\" ><label for=\"sk-estimator-id-3\" class=\"sk-toggleable__label sk-toggleable__label-arrow\">RandomForestClassifier</label><div class=\"sk-toggleable__content\"><pre>RandomForestClassifier()</pre></div></div></div></div></div></div></div></div></div></div>"
      ],
      "text/plain": [
       "RandomizedSearchCV(cv=5, estimator=RandomForestClassifier(), n_iter=5,\n",
       "                   param_distributions={'max_depth': <scipy.stats._distn_infrastructure.rv_discrete_frozen object at 0x2935bbad0>,\n",
       "                                        'n_estimators': <scipy.stats._distn_infrastructure.rv_discrete_frozen object at 0x29359a950>})"
      ]
     },
     "execution_count": 14,
     "metadata": {},
     "output_type": "execute_result"
    }
   ],
   "source": [
    "rf = RandomForestClassifier()\n",
    "\n",
    "seed(0)\n",
    "parameter_space = {'n_estimators': randint(50,500),\n",
    "                   'max_depth': randint(1,20)}\n",
    "\n",
    "# Use random search to find the best hyperparameters\n",
    "rand_search = RandomizedSearchCV(rf, \n",
    "                                 param_distributions = parameter_space, \n",
    "                                 n_iter=5, \n",
    "                                 cv=5)\n",
    "\n",
    "# Fit the random search object to the data\n",
    "rand_search.fit(X_train, y_train.values.ravel())"
   ]
  },
  {
   "cell_type": "code",
   "execution_count": 15,
   "id": "3e74a0b2-5be6-4089-bc98-36f14dac68f8",
   "metadata": {
    "tags": []
   },
   "outputs": [
    {
     "name": "stdout",
     "output_type": "stream",
     "text": [
      "RF Best hyperparameters: {'max_depth': 19, 'n_estimators': 342}\n",
      "RF Test Accuracy: 0.72\n",
      "Demographic parity difference: 0.46\n",
      "Demographic parity ratio: 0.35\n",
      "Equalized odds difference: 0.51\n",
      "Equalized odds ratio: 0.0\n",
      "RF Confusion Matrix:\n"
     ]
    },
    {
     "data": {
      "image/png": "[encoded data removed]",
      "text/plain": [
       "<Figure size 640x480 with 2 Axes>"
      ]
     },
     "metadata": {},
     "output_type": "display_data"
    }
   ],
   "source": [
    "best_rf = rand_search.best_estimator_\n",
    "\n",
    "# Print the best hyperparameters\n",
    "print('RF Best hyperparameters:',  rand_search.best_params_)\n",
    "\n",
    "# Generate predictions with the best model\n",
    "y_pred = best_rf.predict(X_test)\n",
    "test_accuracy = accuracy_score(y_test, y_pred)\n",
    "print(\"RF Test Accuracy:\", np.round(test_accuracy,2))\n",
    "\n",
    "# Fairness metrics\n",
    "print(\"Demographic parity difference:\",np.round(demographic_parity_difference(y_test, y_pred,sensitive_features=race_feature),2))\n",
    "print(\"Demographic parity ratio:\",np.round(demographic_parity_ratio(y_test, y_pred,sensitive_features=race_feature),2))\n",
    "print(\"Equalized odds difference:\",np.round(equalized_odds_difference(y_test, y_pred,sensitive_features=race_feature),2))\n",
    "print(\"Equalized odds ratio:\",np.round(equalized_odds_ratio(y_test, y_pred,sensitive_features=race_feature),2))\n",
    "\n",
    "# Create the confusion matrix\n",
    "cm = confusion_matrix(y_test, y_pred)\n",
    "print(\"RF Confusion Matrix:\")\n",
    "ConfusionMatrixDisplay(confusion_matrix=cm).plot(cmap=plt.cm.Greens);"
   ]
  },
  {
   "cell_type": "markdown",
   "id": "795d6b98-c28d-4704-b10a-90105e07c45c",
   "metadata": {},
   "source": [
    "### 2.1.2. Over: Neural Network"
   ]
  },
  {
   "cell_type": "code",
   "execution_count": null,
   "id": "17a4e38c-9500-4f6b-a378-0afc142b293a",
   "metadata": {
    "tags": []
   },
   "outputs": [],
   "source": [
    "nn = MLPClassifier(max_iter=1000, learning_rate_init=0.5)\n",
    "\n",
    "seed(0)\n",
    "parameter_space = {'hidden_layer_sizes': [(randint.rvs(1,15,1),randint.rvs(1,15,1),),(randint.rvs(1,15))],\n",
    "                   'activation': ['tanh', 'relu', 'logistic'],\n",
    "                   'solver': ['sgd', 'adam', 'lbfgs'],\n",
    "                   'alpha': uniform(0.0001, 0.9, 3),\n",
    "                   'learning_rate': ['constant','adaptive']}\n",
    "\n",
    "# Use random search to find the best hyperparameters\n",
    "rand_search = RandomizedSearchCV(nn, \n",
    "                                 param_distributions = parameter_space, \n",
    "                                 n_iter=5, \n",
    "                                 cv=5)\n",
    "\n",
    "# Fit the random search object to the data\n",
    "rand_search.fit(X_train, y_train.values.ravel())"
   ]
  },
  {
   "cell_type": "code",
   "execution_count": null,
   "id": "874bdf13-7b66-499d-80ff-05911122287b",
   "metadata": {
    "tags": []
   },
   "outputs": [],
   "source": [
    "best_nn = rand_search.best_estimator_\n",
    "\n",
    "# Print the best hyperparameters\n",
    "print('NN Best hyperparameters:',  rand_search.best_params_)\n",
    "\n",
    "# Generate predictions with the best model\n",
    "y_pred = best_nn.predict(X_test)\n",
    "test_accuracy = accuracy_score(y_test, y_pred)\n",
    "print(\"NN Test Accuracy:\", np.round(test_accuracy,2))\n",
    "\n",
    "# Fairness metrics\n",
    "print(\"Demographic parity difference:\",np.round(demographic_parity_difference(y_test, y_pred,sensitive_features=race_feature),2))\n",
    "print(\"Demographic parity ratio:\",np.round(demographic_parity_ratio(y_test, y_pred,sensitive_features=race_feature),2))\n",
    "print(\"Equalized odds difference:\",np.round(equalized_odds_difference(y_test, y_pred,sensitive_features=race_feature),2))\n",
    "print(\"Equalized odds ratio:\",np.round(equalized_odds_ratio(y_test, y_pred,sensitive_features=race_feature),2))\n",
    "\n",
    "# Create the confusion matrix\n",
    "cm = confusion_matrix(y_test, y_pred)\n",
    "print(\"NN Confusion Matrix:\")\n",
    "ConfusionMatrixDisplay(confusion_matrix=cm).plot(cmap=plt.cm.Greens);"
   ]
  },
  {
   "cell_type": "markdown",
   "id": "df79653a-8357-4ac8-81a6-c0f553b37586",
   "metadata": {
    "tags": []
   },
   "source": [
    "### 2.1.3. Over: XG Boost"
   ]
  },
  {
   "cell_type": "code",
   "execution_count": 16,
   "id": "a1bb6fb3-b0f8-4dfe-82ac-7e2386299b3b",
   "metadata": {
    "tags": []
   },
   "outputs": [
    {
     "data": {
      "text/html": [
       "<style>#sk-container-id-2 {color: black;}#sk-container-id-2 pre{padding: 0;}#sk-container-id-2 div.sk-toggleable {background-color: white;}#sk-container-id-2 label.sk-toggleable__label {cursor: pointer;display: block;width: 100%;margin-bottom: 0;padding: 0.3em;box-sizing: border-box;text-align: center;}#sk-container-id-2 label.sk-toggleable__label-arrow:before {content: \"▸\";float: left;margin-right: 0.25em;color: #696969;}#sk-container-id-2 label.sk-toggleable__label-arrow:hover:before {color: black;}#sk-container-id-2 div.sk-estimator:hover label.sk-toggleable__label-arrow:before {color: black;}#sk-container-id-2 div.sk-toggleable__content {max-height: 0;max-width: 0;overflow: hidden;text-align: left;background-color: #f0f8ff;}#sk-container-id-2 div.sk-toggleable__content pre {margin: 0.2em;color: black;border-radius: 0.25em;background-color: #f0f8ff;}#sk-container-id-2 input.sk-toggleable__control:checked~div.sk-toggleable__content {max-height: 200px;max-width: 100%;overflow: auto;}#sk-container-id-2 input.sk-toggleable__control:checked~label.sk-toggleable__label-arrow:before {content: \"▾\";}#sk-container-id-2 div.sk-estimator input.sk-toggleable__control:checked~label.sk-toggleable__label {background-color: #d4ebff;}#sk-container-id-2 div.sk-label input.sk-toggleable__control:checked~label.sk-toggleable__label {background-color: #d4ebff;}#sk-container-id-2 input.sk-hidden--visually {border: 0;clip: rect(1px 1px 1px 1px);clip: rect(1px, 1px, 1px, 1px);height: 1px;margin: -1px;overflow: hidden;padding: 0;position: absolute;width: 1px;}#sk-container-id-2 div.sk-estimator {font-family: monospace;background-color: #f0f8ff;border: 1px dotted black;border-radius: 0.25em;box-sizing: border-box;margin-bottom: 0.5em;}#sk-container-id-2 div.sk-estimator:hover {background-color: #d4ebff;}#sk-container-id-2 div.sk-parallel-item::after {content: \"\";width: 100%;border-bottom: 1px solid gray;flex-grow: 1;}#sk-container-id-2 div.sk-label:hover label.sk-toggleable__label {background-color: #d4ebff;}#sk-container-id-2 div.sk-serial::before {content: \"\";position: absolute;border-left: 1px solid gray;box-sizing: border-box;top: 0;bottom: 0;left: 50%;z-index: 0;}#sk-container-id-2 div.sk-serial {display: flex;flex-direction: column;align-items: center;background-color: white;padding-right: 0.2em;padding-left: 0.2em;position: relative;}#sk-container-id-2 div.sk-item {position: relative;z-index: 1;}#sk-container-id-2 div.sk-parallel {display: flex;align-items: stretch;justify-content: center;background-color: white;position: relative;}#sk-container-id-2 div.sk-item::before, #sk-container-id-2 div.sk-parallel-item::before {content: \"\";position: absolute;border-left: 1px solid gray;box-sizing: border-box;top: 0;bottom: 0;left: 50%;z-index: -1;}#sk-container-id-2 div.sk-parallel-item {display: flex;flex-direction: column;z-index: 1;position: relative;background-color: white;}#sk-container-id-2 div.sk-parallel-item:first-child::after {align-self: flex-end;width: 50%;}#sk-container-id-2 div.sk-parallel-item:last-child::after {align-self: flex-start;width: 50%;}#sk-container-id-2 div.sk-parallel-item:only-child::after {width: 0;}#sk-container-id-2 div.sk-dashed-wrapped {border: 1px dashed gray;margin: 0 0.4em 0.5em 0.4em;box-sizing: border-box;padding-bottom: 0.4em;background-color: white;}#sk-container-id-2 div.sk-label label {font-family: monospace;font-weight: bold;display: inline-block;line-height: 1.2em;}#sk-container-id-2 div.sk-label-container {text-align: center;}#sk-container-id-2 div.sk-container {/* jupyter's `normalize.less` sets `[hidden] { display: none; }` but bootstrap.min.css set `[hidden] { display: none !important; }` so we also need the `!important` here to be able to override the default hidden behavior on the sphinx rendered scikit-learn.org. See: https://github.com/scikit-learn/scikit-learn/issues/21755 */display: inline-block !important;position: relative;}#sk-container-id-2 div.sk-text-repr-fallback {display: none;}</style><div id=\"sk-container-id-2\" class=\"sk-top-container\"><div class=\"sk-text-repr-fallback\"><pre>RandomizedSearchCV(cv=5, estimator=GradientBoostingClassifier(), n_iter=5,\n",
       "                   param_distributions={&#x27;learning_rate&#x27;: [0.2744072031501585,\n",
       "                                                          0.7151896511830531],\n",
       "                                        &#x27;max_depth&#x27;: &lt;scipy.stats._distn_infrastructure.rv_discrete_frozen object at 0x293559750&gt;,\n",
       "                                        &#x27;n_estimators&#x27;: &lt;scipy.stats._distn_infrastructure.rv_discrete_frozen object at 0x2a7cacb50&gt;,\n",
       "                                        &#x27;random_state&#x27;: &lt;scipy.stats._distn_infrastructure.rv_discrete_frozen object at 0x2a7ce5510&gt;})</pre><b>In a Jupyter environment, please rerun this cell to show the HTML representation or trust the notebook. <br />On GitHub, the HTML representation is unable to render, please try loading this page with nbviewer.org.</b></div><div class=\"sk-container\" hidden><div class=\"sk-item sk-dashed-wrapped\"><div class=\"sk-label-container\"><div class=\"sk-label sk-toggleable\"><input class=\"sk-toggleable__control sk-hidden--visually\" id=\"sk-estimator-id-4\" type=\"checkbox\" ><label for=\"sk-estimator-id-4\" class=\"sk-toggleable__label sk-toggleable__label-arrow\">RandomizedSearchCV</label><div class=\"sk-toggleable__content\"><pre>RandomizedSearchCV(cv=5, estimator=GradientBoostingClassifier(), n_iter=5,\n",
       "                   param_distributions={&#x27;learning_rate&#x27;: [0.2744072031501585,\n",
       "                                                          0.7151896511830531],\n",
       "                                        &#x27;max_depth&#x27;: &lt;scipy.stats._distn_infrastructure.rv_discrete_frozen object at 0x293559750&gt;,\n",
       "                                        &#x27;n_estimators&#x27;: &lt;scipy.stats._distn_infrastructure.rv_discrete_frozen object at 0x2a7cacb50&gt;,\n",
       "                                        &#x27;random_state&#x27;: &lt;scipy.stats._distn_infrastructure.rv_discrete_frozen object at 0x2a7ce5510&gt;})</pre></div></div></div><div class=\"sk-parallel\"><div class=\"sk-parallel-item\"><div class=\"sk-item\"><div class=\"sk-label-container\"><div class=\"sk-label sk-toggleable\"><input class=\"sk-toggleable__control sk-hidden--visually\" id=\"sk-estimator-id-5\" type=\"checkbox\" ><label for=\"sk-estimator-id-5\" class=\"sk-toggleable__label sk-toggleable__label-arrow\">estimator: GradientBoostingClassifier</label><div class=\"sk-toggleable__content\"><pre>GradientBoostingClassifier()</pre></div></div></div><div class=\"sk-serial\"><div class=\"sk-item\"><div class=\"sk-estimator sk-toggleable\"><input class=\"sk-toggleable__control sk-hidden--visually\" id=\"sk-estimator-id-6\" type=\"checkbox\" ><label for=\"sk-estimator-id-6\" class=\"sk-toggleable__label sk-toggleable__label-arrow\">GradientBoostingClassifier</label><div class=\"sk-toggleable__content\"><pre>GradientBoostingClassifier()</pre></div></div></div></div></div></div></div></div></div></div>"
      ],
      "text/plain": [
       "RandomizedSearchCV(cv=5, estimator=GradientBoostingClassifier(), n_iter=5,\n",
       "                   param_distributions={'learning_rate': [0.2744072031501585,\n",
       "                                                          0.7151896511830531],\n",
       "                                        'max_depth': <scipy.stats._distn_infrastructure.rv_discrete_frozen object at 0x293559750>,\n",
       "                                        'n_estimators': <scipy.stats._distn_infrastructure.rv_discrete_frozen object at 0x2a7cacb50>,\n",
       "                                        'random_state': <scipy.stats._distn_infrastructure.rv_discrete_frozen object at 0x2a7ce5510>})"
      ]
     },
     "execution_count": 16,
     "metadata": {},
     "output_type": "execute_result"
    }
   ],
   "source": [
    "xgb = GradientBoostingClassifier()\n",
    "\n",
    "seed(0)\n",
    "parameter_space = {'n_estimators': randint(1,200),\n",
    "                   'max_depth': randint(1,20),\n",
    "                   'learning_rate': [uniform(0.000001,0.5),uniform(0.000001,1)],\n",
    "                   'random_state': randint(0,50)}\n",
    "\n",
    "# Use random search to find the best hyperparameters\n",
    "rand_search = RandomizedSearchCV(xgb, \n",
    "                                 param_distributions = parameter_space, \n",
    "                                 n_iter=5, \n",
    "                                 cv=5)\n",
    "\n",
    "# Fit the random search object to the data\n",
    "rand_search.fit(X_train, y_train.values.ravel())"
   ]
  },
  {
   "cell_type": "code",
   "execution_count": 17,
   "id": "8c320c13-1ccb-46f8-adc0-cc0eba109d96",
   "metadata": {
    "tags": []
   },
   "outputs": [
    {
     "name": "stdout",
     "output_type": "stream",
     "text": [
      "XG Boost Best hyperparameters: {'learning_rate': 0.2744072031501585, 'max_depth': 18, 'n_estimators': 166, 'random_state': 25}\n",
      "XG Boost Test Accuracy: 0.81\n",
      "Demographic parity difference: 0.32\n",
      "Demographic parity ratio: 0.54\n",
      "Equalized odds difference: 0.26\n",
      "Equalized odds ratio: 0.0\n",
      "XG Boost Confusion Matrix:\n"
     ]
    },
    {
     "data": {
      "image/png": "[encoded data removed]",
      "text/plain": [
       "<Figure size 640x480 with 2 Axes>"
      ]
     },
     "metadata": {},
     "output_type": "display_data"
    }
   ],
   "source": [
    "best_xgb = rand_search.best_estimator_\n",
    "\n",
    "# Print the best hyperparameters\n",
    "print('XG Boost Best hyperparameters:',  rand_search.best_params_)\n",
    "\n",
    "# Generate predictions with the best model\n",
    "y_pred = best_xgb.predict(X_test)\n",
    "test_accuracy = accuracy_score(y_test, y_pred)\n",
    "print(\"XG Boost Test Accuracy:\", np.round(test_accuracy,2))\n",
    "\n",
    "# Fairness metrics\n",
    "print(\"Demographic parity difference:\",np.round(demographic_parity_difference(y_test, y_pred,sensitive_features=race_feature),2))\n",
    "print(\"Demographic parity ratio:\",np.round(demographic_parity_ratio(y_test, y_pred,sensitive_features=race_feature),2))\n",
    "print(\"Equalized odds difference:\",np.round(equalized_odds_difference(y_test, y_pred,sensitive_features=race_feature),2))\n",
    "print(\"Equalized odds ratio:\",np.round(equalized_odds_ratio(y_test, y_pred,sensitive_features=race_feature),2))\n",
    "\n",
    "# Create the confusion matrix\n",
    "cm = confusion_matrix(y_test, y_pred)\n",
    "print(\"XG Boost Confusion Matrix:\")\n",
    "ConfusionMatrixDisplay(confusion_matrix=cm).plot(cmap=plt.cm.Greens);"
   ]
  },
  {
   "cell_type": "code",
   "execution_count": 18,
   "id": "e54e28c3-b858-41ca-8b67-26012143ab34",
   "metadata": {
    "tags": []
   },
   "outputs": [
    {
     "name": "stdout",
     "output_type": "stream",
     "text": [
      "race_American Indian or Alaska Native : 0.0 % miss rate\n",
      "race_American Indian or Alaska Native : 66.67 % hit rate\n",
      "race_Asian : 5.49 % miss rate\n",
      "race_Asian : 39.23 % hit rate\n",
      "race_Black or African American : 1.48 % miss rate\n",
      "race_Black or African American : 50.74 % hit rate\n",
      "race_Native Hawaiian or Other Pacific Islander : 0.0 % miss rate\n",
      "race_Native Hawaiian or Other Pacific Islander : 37.25 % hit rate\n",
      "race_Multiracial : 0.0 % miss rate\n",
      "race_Multiracial : 55.34 % hit rate\n",
      "race_Other : 0.31 % miss rate\n",
      "race_Other : 47.6 % hit rate\n",
      "race_Unknown : 0.0 % miss rate\n",
      "race_Unknown : 67.11 % hit rate\n",
      "race_White : 9.8 % miss rate\n",
      "race_White : 39.96 % hit rate\n"
     ]
    }
   ],
   "source": [
    "races = ['race_American Indian or Alaska Native','race_Asian','race_Black or African American',\n",
    "         'race_Native Hawaiian or Other Pacific Islander','race_Multiracial','race_Other','race_Unknown','race_White']\n",
    "for r in races:\n",
    "    race = r\n",
    "    test_set = pd.concat([y_test,X_test],axis=1)\n",
    "    group_test_set = test_set[test_set[race]==1]\n",
    "    group_y_test = group_test_set[['pmad']]\n",
    "    idx = []\n",
    "    for i in range(len(test_set)):\n",
    "        if test_set[race].iloc[i]==1:\n",
    "            idx.append(i)\n",
    "    cm = confusion_matrix(group_y_test, y_pred[idx])\n",
    "    miss = np.round(100*cm[1][0]/sum(sum(cm)),2)\n",
    "    hit = np.round(100*cm[1][1]/sum(sum(cm)),2)\n",
    "    print(r,\":\",miss,\"% miss rate\")\n",
    "    print(r,\":\",hit,\"% hit rate\")\n",
    "    #ConfusionMatrixDisplay(confusion_matrix=cm).plot(cmap=plt.cm.Greens);"
   ]
  },
  {
   "cell_type": "markdown",
   "id": "37a22b87-ed9a-4b33-80aa-6f1431c17bac",
   "metadata": {},
   "source": [
    "### 2.1.4. Over: TPOT2"
   ]
  },
  {
   "cell_type": "code",
   "execution_count": null,
   "id": "293904cd-f3d9-4da5-93e9-4417a0cfbc4d",
   "metadata": {
    "tags": []
   },
   "outputs": [],
   "source": [
    "if __name__==\"__main__\":\n",
    "    \n",
    "    # Get a scorer from string.\n",
    "    # scoring = method as string (e.g., 'roc_auc_ovr'.\n",
    "    scorer = sklearn.metrics.get_scorer('roc_auc_ovr')\n",
    "    \n",
    "    # Split arrays or matrices into random train and test subsets.\n",
    "    X_train, X_test, y_train, y_test = train_test_split(X, y, train_size=0.75, test_size=0.25)\n",
    "    \n",
    "    \n",
    "    # scorers can be a list of strings or a list of scorers. These get evaluated during cross validation. \n",
    "    est = tpot2.TPOTEstimator(scorers=['roc_auc_ovr'],\n",
    "                              scorers_weights=[1], # positive values = maximize, negative = minimize\n",
    "                              classification=True,\n",
    "                              max_eval_time_seconds=120, # Anil: 120\n",
    "                              #max_time_seconds=15,\n",
    "                              other_objective_functions=[tpot2.objectives.number_of_nodes_objective], # Anil\n",
    "                              #generations = 10, # Anil: 10\n",
    "                              verbose=2,\n",
    "                              random_state = 0)\n",
    "    \n",
    "    # Fits the above TPOT model to the training set.\n",
    "    est.fit(X_train, y_train)\n",
    "    \n",
    "    # Get the cross validated roc_auc_ovr on test sets.\n",
    "    print(\"roc_auc_ovr:\",scorer(est, X_test, y_test))\n",
    "    \n",
    "    fitted_pipeline = est.fitted_pipeline_ # access best pipeline directly\n",
    "    fitted_pipeline.plot() #plot the best pipeline\n",
    "    \n",
    "    # Fairness metrics\n",
    "    print(\"Demographic parity difference:\",np.round(demographic_parity_difference(y_test, y_pred,sensitive_features=race_feature),2))\n",
    "    print(\"Demographic parity ratio:\",np.round(demographic_parity_ratio(y_test, y_pred,sensitive_features=race_feature),2))\n",
    "    print(\"Equalized odds difference:\",np.round(equalized_odds_difference(y_test, y_pred,sensitive_features=race_feature),2))\n",
    "    print(\"Equalized odds ratio:\",np.round(equalized_odds_ratio(y_test, y_pred,sensitive_features=race_feature),2))\n",
    "\n",
    "\n",
    "    # Create the confusion matrix\n",
    "    cm = confusion_matrix(y_test, y_pred)\n",
    "    print(\"TPOT2 Confusion Matrix:\")\n",
    "    ConfusionMatrixDisplay(confusion_matrix=cm).plot(cmap=plt.cm.Greens);"
   ]
  },
  {
   "cell_type": "code",
   "execution_count": null,
   "id": "b9f11594-5cca-4820-adf7-88f36b1ff098",
   "metadata": {},
   "outputs": [],
   "source": [
    "# save this file and output as html\n",
    "import os\n",
    "os.system('jupyter nbconvert --to html data_analysis.ipynb')"
   ]
  }
 ],
 "metadata": {
  "kernelspec": {
   "display_name": "Python 3 (ipykernel)",
   "language": "python",
   "name": "python3"
  },
  "language_info": {
   "codemirror_mode": {
    "name": "ipython",
    "version": 3
   },
   "file_extension": ".py",
   "mimetype": "text/x-python",
   "name": "python",
   "nbconvert_exporter": "python",
   "pygments_lexer": "ipython3",
   "version": "3.11.5"
  }
 },
 "nbformat": 4,
 "nbformat_minor": 5
}
