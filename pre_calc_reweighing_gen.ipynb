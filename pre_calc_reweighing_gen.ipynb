{
 "cells": [
  {
   "cell_type": "markdown",
   "id": "2117f2c8-b251-4eea-b2c3-bc30f69f1ae7",
   "metadata": {},
   "source": [
    "# Import Libraries"
   ]
  },
  {
   "cell_type": "code",
   "execution_count": 2,
   "id": "e4acebaf-fb05-4779-98d4-7716bec57607",
   "metadata": {},
   "outputs": [],
   "source": [
    "import aif360\n",
    "import numpy as np\n",
    "import time\n",
    "from sklearn.model_selection import train_test_split\n",
    "from sklearn.linear_model import LogisticRegression\n",
    "import sklearn\n",
    "import tpot2\n",
    "import pandas as pd\n",
    "\n",
    "# for nested dictionary\n",
    "import collections\n",
    "def makehash():\n",
    "    return collections.defaultdict(makehash)"
   ]
  },
  {
   "cell_type": "markdown",
   "id": "732001f3-f1e8-4424-892d-01d5274c5753",
   "metadata": {},
   "source": [
    "**sens_features_name** and **outcome_name** are the names (str) of the variables as seen in your data."
   ]
  },
  {
   "cell_type": "code",
   "execution_count": null,
   "id": "a6e9b48b-2ea3-4c99-8fe8-92908e6a746c",
   "metadata": {},
   "outputs": [],
   "source": [
    "def calc_weights(X, y, sens_features_name, outcome_name):\n",
    "    ''' Calculate sample weights according to calculationg given in \n",
    "           F. Kamiran and T. Calders,  \"Data Preprocessing Techniques for\n",
    "           Classification without Discrimination,\" Knowledge and Information\n",
    "           Systems, 2012.\n",
    "    ''' \n",
    "    \n",
    "    # combination of label and groups (outputs a table)\n",
    "    sens_features = X[sens_features_name]\n",
    "    outcome = y[outcome_name]\n",
    "    tab = pd.DataFrame(pd.crosstab(index=sens_features, columns=outcome))\n",
    "\n",
    "    # reweighing weights\n",
    "    w = makehash()\n",
    "    n = len(X)\n",
    "    for r in tab.index:\n",
    "        key1 = str(r)\n",
    "        row_sum = tab.loc[r].sum(axis=0)\n",
    "        for c in tab.columns:\n",
    "            key2 = str(c)\n",
    "            col_sum = tab[c].sum()\n",
    "            n_combo = tab.loc[r,c]\n",
    "            val = (row_sum*col_sum)/(n*n_combo)\n",
    "            w[key1][key2] = val\n",
    "    \n",
    "    # Instance weights\n",
    "    dat = X.join(y)\n",
    "    instance_weights = []\n",
    "    for index, row in dat.iterrows():\n",
    "        race = row[sens_features_name]\n",
    "        out = row[outcome_name]\n",
    "        instance_weights.append(w[race][str(out)])\n",
    "\n",
    "    return instance_weights"
   ]
  }
 ],
 "metadata": {
  "kernelspec": {
   "display_name": "Python 3 (ipykernel)",
   "language": "python",
   "name": "python3"
  },
  "language_info": {
   "codemirror_mode": {
    "name": "ipython",
    "version": 3
   },
   "file_extension": ".py",
   "mimetype": "text/x-python",
   "name": "python",
   "nbconvert_exporter": "python",
   "pygments_lexer": "ipython3",
   "version": "3.11.5"
  }
 },
 "nbformat": 4,
 "nbformat_minor": 5
}
