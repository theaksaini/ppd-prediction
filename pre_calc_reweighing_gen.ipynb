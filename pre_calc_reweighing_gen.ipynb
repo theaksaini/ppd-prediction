{
 "cells": [
  {
   "cell_type": "markdown",
   "id": "2117f2c8-b251-4eea-b2c3-bc30f69f1ae7",
   "metadata": {},
   "source": [
    "# Import Libraries"
   ]
  },
  {
   "cell_type": "code",
   "execution_count": null,
   "id": "e4acebaf-fb05-4779-98d4-7716bec57607",
   "metadata": {},
   "outputs": [],
   "source": [
    "import aif360\n",
    "import numpy as np\n",
    "import time\n",
    "from sklearn.model_selection import train_test_split\n",
    "from sklearn.linear_model import LogisticRegression\n",
    "import sklearn\n",
    "import tpot2\n",
    "import pandas as pd\n",
    "\n",
    "# for nested dictionary\n",
    "import collections\n",
    "def makehash():\n",
    "    return collections.defaultdict(makehash)"
   ]
  },
  {
   "cell_type": "markdown",
   "id": "37ce2c29-0522-4399-a84f-0b5bf62417d6",
   "metadata": {},
   "source": [
    "# Import Data"
   ]
  },
  {
   "cell_type": "markdown",
   "id": "071894ba-8e9c-49e4-a9b8-c2b9016e1976",
   "metadata": {},
   "source": [
    "Import your data here (referred to as \"data\" below)"
   ]
  },
  {
   "cell_type": "code",
   "execution_count": null,
   "id": "d7da81cc-a416-4a0a-a883-882747072825",
   "metadata": {
    "tags": []
   },
   "outputs": [],
   "source": [
    "# X, y\n",
    "X = data.drop('y', axis=1)\n",
    "y = data[['y']]"
   ]
  },
  {
   "cell_type": "code",
   "execution_count": null,
   "id": "8474608c-3042-41e9-9416-8b5a8fcb87b4",
   "metadata": {
    "tags": []
   },
   "outputs": [],
   "source": [
    "# Specify sensitive features and outcome variable\n",
    "sens_features = X['feature']\n",
    "outcome = y['y']"
   ]
  },
  {
   "cell_type": "code",
   "execution_count": null,
   "id": "56ea8706-4379-4360-8bf2-cb2ef98262ea",
   "metadata": {
    "tags": []
   },
   "outputs": [],
   "source": [
    "# Create contingency table\n",
    "tab = pd.DataFrame(pd.crosstab(index=sens_features, columns=outcome))"
   ]
  },
  {
   "cell_type": "code",
   "execution_count": null,
   "id": "bd3f1d6b-33b0-4cc8-9e3d-25b2062cd485",
   "metadata": {
    "tags": []
   },
   "outputs": [],
   "source": [
    "# Created nested dictionary of weights\n",
    "w = makehash()\n",
    "n = len(X)\n",
    "for r in tab.index:\n",
    "    key1 = str(r)\n",
    "    row_sum = tab.loc[r].sum(axis=0)\n",
    "    for c in tab.columns:\n",
    "        key2 = str(c)\n",
    "        col_sum = tab[c].sum()\n",
    "        n_combo = tab.loc[r,c]\n",
    "        val = (row_sum*col_sum)/(n*n_combo)\n",
    "        w[key1][key2] = val"
   ]
  },
  {
   "cell_type": "code",
   "execution_count": null,
   "id": "9d4cec8a-f4b9-46b1-a091-ff2815501d5f",
   "metadata": {
    "tags": []
   },
   "outputs": [],
   "source": [
    "w"
   ]
  },
  {
   "cell_type": "code",
   "execution_count": null,
   "id": "cd8d3e4c-427f-4ad4-a84f-5c054fb45d32",
   "metadata": {
    "tags": []
   },
   "outputs": [],
   "source": [
    "# Instance weights\n",
    "instance_weights = []\n",
    "for race in sens_features:\n",
    "    for out in outcome:\n",
    "        instance_weights.append(w[race][str(out)])"
   ]
  },
  {
   "cell_type": "code",
   "execution_count": null,
   "id": "a6e9b48b-2ea3-4c99-8fe8-92908e6a746c",
   "metadata": {},
   "outputs": [],
   "source": [
    "def calc_weights(X, y, sens_features, outcome):\n",
    "    ''' Calculate sample weights according to calculationg given in \n",
    "           F. Kamiran and T. Calders,  \"Data Preprocessing Techniques for\n",
    "           Classification without Discrimination,\" Knowledge and Information\n",
    "           Systems, 2012.\n",
    "    ''' \n",
    "    \n",
    "    # combination of label and groups (outputs a table)\n",
    "    pd.crosstab(index=sens_features, outcome, margins=True)\n",
    "\n",
    "    # reweighing weights\n",
    "    tab = pd.DataFrame(pd.crosstab(index=sens_features, columns=outcome))\n",
    "    w = makehash()\n",
    "    n = len(X)\n",
    "    for r in tab.index:\n",
    "        key1 = str(r)\n",
    "        row_sum = tab.loc[r].sum(axis=0)\n",
    "        for c in tab.columns:\n",
    "            key2 = str(c)\n",
    "            col_sum = tab[c].sum()\n",
    "            n_combo = tab.loc[r,c]\n",
    "            val = (row_sum*col_sum)/(n*n_combo)\n",
    "            w[key1][key2] = val\n",
    "    \n",
    "    instance_weights = []\n",
    "    for race in sens_features:\n",
    "        for out in outcome:\n",
    "            instance_weights.append(w[race][str(out)])\n",
    "\n",
    "    return instance_weights"
   ]
  }
 ],
 "metadata": {
  "kernelspec": {
   "display_name": "Python 3 (ipykernel)",
   "language": "python",
   "name": "python3"
  },
  "language_info": {
   "codemirror_mode": {
    "name": "ipython",
    "version": 3
   },
   "file_extension": ".py",
   "mimetype": "text/x-python",
   "name": "python",
   "nbconvert_exporter": "python",
   "pygments_lexer": "ipython3",
   "version": "3.11.5"
  }
 },
 "nbformat": 4,
 "nbformat_minor": 5
}
