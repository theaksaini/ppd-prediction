{
 "cells": [
  {
   "cell_type": "code",
   "execution_count": null,
   "id": "9f2cacf1-8218-42cc-9e57-fc656f2e5ce9",
   "metadata": {
    "tags": []
   },
   "outputs": [],
   "source": [
    "import warnings\n",
    "warnings.filterwarnings('ignore')\n",
    "\n",
    "import pandas as pd\n",
    "import numpy as np\n",
    "from numpy.random import uniform, normal, seed\n",
    "import random\n",
    "from sklearn.metrics import roc_auc_score, balanced_accuracy_score\n",
    "\n",
    "import seaborn as sns\n",
    "import matplotlib.pyplot as plt\n",
    "\n",
    "import joblib\n",
    "\n",
    "def optim_thresh(X_test, y_test, model):\n",
    "    # Find optimal threshold\n",
    "    step_factor = 0.05 \n",
    "    threshold_value = 0.05\n",
    "    bal_acc=0\n",
    "    predicted_proba = model.predict_proba(X_test) #probability of prediction\n",
    "    while threshold_value <=0.8: #continue to check best threshold upto probability 0.8\n",
    "        temp_thresh = threshold_value\n",
    "        predicted = (predicted_proba [:,1] >= temp_thresh).astype('int') #change the class boundary for prediction\n",
    "        if bal_acc<balanced_accuracy_score(y_test, predicted): #store the threshold for best classification\n",
    "            bal_acc = balanced_accuracy_score(y_test,predicted)\n",
    "            thrsh_score = threshold_value\n",
    "        threshold_value = threshold_value + step_factor\n",
    "\n",
    "    optim_thresh = thrsh_score\n",
    "    \n",
    "    return thrsh_score"
   ]
  },
  {
   "cell_type": "markdown",
   "id": "f2d80fc0-2b9a-4020-9207-f4e520120b18",
   "metadata": {},
   "source": [
    "## Load Data and Model"
   ]
  },
  {
   "cell_type": "code",
   "execution_count": null,
   "id": "b30c728b-ca68-408f-bdbf-2292d35e17a2",
   "metadata": {
    "tags": []
   },
   "outputs": [],
   "source": [
    "outcome = 'EPDS_risk2'\n",
    "\n",
    "X_test = pd.read_excel(\"EPDS_X_test.xlsx\")\n",
    "y_test = pd.read_excel(\"EPDS_y_test.xlsx\")\n",
    "\n",
    "del X_test[X_test.columns[0]]\n",
    "del y_test[y_test.columns[0]]"
   ]
  },
  {
   "cell_type": "code",
   "execution_count": null,
   "id": "0a32adf0-7518-4c5d-824a-80b9abfd11a8",
   "metadata": {
    "tags": []
   },
   "outputs": [],
   "source": [
    "best_glm_epds_no_reweigh = joblib.load('best_glm_epds_no_reweigh.pkl')\n",
    "best_glm_epds_reweigh = joblib.load('best_glm_epds_reweigh.pkl')\n",
    "\n",
    "best_rf_epds_no_reweigh = joblib.load('best_rf_epds_no_reweigh.pkl')\n",
    "best_rf_epds_reweigh = joblib.load('best_rf_epds_reweigh.pkl')\n",
    "\n",
    "best_xgb_epds_no_reweigh = joblib.load('best_xgb_epds_no_reweigh.pkl')\n",
    "best_xbg_epds_reweigh = joblib.load('best_xgb_epds_reweigh.pkl')"
   ]
  },
  {
   "cell_type": "markdown",
   "id": "747d431e-2bb2-4bba-a01f-195a77d4e265",
   "metadata": {},
   "source": [
    "## Boostrap Models with No Reweighing"
   ]
  },
  {
   "cell_type": "code",
   "execution_count": null,
   "id": "efd9b93f-abd3-497f-a59b-8c8f75715173",
   "metadata": {
    "tags": []
   },
   "outputs": [],
   "source": [
    "no_reweigh_results = []\n",
    "no_reweigh_models = [best_glm_epds_no_reweigh,best_rf_epds_no_reweigh,best_xgb_epds_no_reweigh]\n",
    "no_reweighs_labs = ['LR','RF','XGB']\n",
    "\n",
    "# Base group is non-Hispanic White\n",
    "races = ['MOM_RACE_Asian or Native Hawaiian or Other Pacific Islander',\n",
    "         'MOM_RACE_Black or African American',\n",
    "         'MOM_RACE_Hispanic White',\n",
    "         'MOM_RACE_Multiracial',\n",
    "         'MOM_RACE_Other',\n",
    "         'MOM_RACE_Unknown']\n",
    "\n",
    "for i in range(3):\n",
    "    model = no_reweigh_models[i]\n",
    "    label = no_reweighs_labs[i]\n",
    "    optim_threshold = optim_thresh(X_test=X_test, y_test=y_test, model=model)\n",
    "    for j in range(100):\n",
    "        test_set = pd.concat([y_test,X_test],axis=1).sample(n=len(X_test), replace=True, random_state=j, ignore_index=True)\n",
    "        x = test_set.drop([outcome], axis=1)\n",
    "        y = test_set[outcome]\n",
    "        y_pred = pd.DataFrame((model.predict_proba(x)[:,1] >= optim_threshold).astype('int'),columns=['y_pred'])\n",
    "        test_set = pd.concat([y_pred,test_set],axis=1)\n",
    "        \n",
    "        # Demographic parity\n",
    "        p_white = np.mean(test_set['y_pred'][test_set['MOM_RACE_White']==1])\n",
    "\n",
    "        # TP and FN\n",
    "        pos_lab_set_white = test_set[(test_set[outcome]==1) & (test_set['MOM_RACE_White']==1)]\n",
    "        pos_lab_set_white['fn'] = np.where(pos_lab_set_white['y_pred']==0,1,0)\n",
    "        fn_white = np.mean(pos_lab_set_white['fn'])\n",
    "        pos_lab_set_white['tp'] = np.where(pos_lab_set_white['y_pred']==1,1,0)\n",
    "        tp_white = np.mean(pos_lab_set_white['tp'])\n",
    "\n",
    "        for r in races:\n",
    "            pos_lab = test_set[(test_set[outcome]==1) & (test_set[r]==1)]\n",
    "            pos_lab['fn'] = np.where(pos_lab['y_pred']==0,1,0)\n",
    "            pos_lab['tp'] = np.where(pos_lab['y_pred']==1,1,0)\n",
    "            no_reweigh_results.append({'Model':label,\n",
    "                                       'BA':balanced_accuracy_score(y, y_pred),\n",
    "                                       'AUC':roc_auc_score(y, model.predict_proba(x)[:,1]),\n",
    "                                       'Race': r,\n",
    "                                       'DP':np.mean(test_set['y_pred'][test_set[r]==1])-p_white,\n",
    "                                       'FN':np.mean(pos_lab['fn'])-fn_white,\n",
    "                                       'TP':np.mean(pos_lab['tp'])-tp_white})"
   ]
  },
  {
   "cell_type": "code",
   "execution_count": null,
   "id": "8cc8da50-a70d-4e13-8ad8-34ac928f6147",
   "metadata": {
    "tags": []
   },
   "outputs": [],
   "source": [
    "no_reweigh_results = pd.DataFrame(no_reweigh_results)"
   ]
  },
  {
   "cell_type": "code",
   "execution_count": null,
   "id": "836e8652-367f-4521-a2fa-8ed71742cb9a",
   "metadata": {
    "tags": []
   },
   "outputs": [],
   "source": [
    "sns.catplot(data=no_reweigh_results[no_reweigh_results['BA'].notnull()], x='Model', y='BA', hue='Model', kind='bar')\n",
    "plt.ylim(0.5, 0.67)"
   ]
  },
  {
   "cell_type": "markdown",
   "id": "9df6ee58-74e7-45b5-81ec-4afe35cab5e4",
   "metadata": {},
   "source": [
    "## Boostrap Models with Reweighing"
   ]
  },
  {
   "cell_type": "code",
   "execution_count": null,
   "id": "e291c987",
   "metadata": {
    "tags": []
   },
   "outputs": [],
   "source": [
    "reweigh_results = []\n",
    "reweigh_models = [best_glm_epds_reweigh,best_rf_epds_reweigh,best_xbg_epds_reweigh]\n",
    "reweigh_models_labs = ['LR','RF','XGB']\n",
    "\n",
    "# Base group is non-Hispanic White\n",
    "races = ['MOM_RACE_Asian or Native Hawaiian or Other Pacific Islander',\n",
    "         'MOM_RACE_Black or African American',\n",
    "         'MOM_RACE_Hispanic White',\n",
    "         'MOM_RACE_Multiracial',\n",
    "         'MOM_RACE_Other',\n",
    "         'MOM_RACE_Unknown']\n",
    "\n",
    "for i in range(3):\n",
    "    model = reweigh_models[i]\n",
    "    label = reweigh_models_labs[i]\n",
    "    optim_threshold = optim_thresh(X_test=X_test, y_test=y_test, model=model)\n",
    "    for j in range(100):\n",
    "        test_set = pd.concat([y_test,X_test],axis=1).sample(n=len(X_test), replace=True, random_state=j, ignore_index=True)\n",
    "        x = test_set.drop([outcome], axis=1)\n",
    "        y = test_set[outcome]\n",
    "        y_pred = pd.DataFrame((model.predict_proba(x)[:,1] >= optim_threshold).astype('int'),columns=['y_pred'])\n",
    "        test_set = pd.concat([y_pred,test_set],axis=1)\n",
    "        \n",
    "        # Demographic parity\n",
    "        p_white = np.mean(test_set['y_pred'][test_set['MOM_RACE_White']==1])\n",
    "\n",
    "        # TP and FN\n",
    "        pos_lab_set_white = test_set[(test_set[outcome]==1) & (test_set['MOM_RACE_White']==1)]\n",
    "        pos_lab_set_white['fn'] = np.where(pos_lab_set_white['y_pred']==0,1,0)\n",
    "        fn_white = np.mean(pos_lab_set_white['fn'])\n",
    "        pos_lab_set_white['tp'] = np.where(pos_lab_set_white['y_pred']==1,1,0)\n",
    "        tp_white = np.mean(pos_lab_set_white['tp'])\n",
    "\n",
    "        for r in races:\n",
    "            pos_lab = test_set[(test_set[outcome]==1) & (test_set[r]==1)]\n",
    "            pos_lab['fn'] = np.where(pos_lab['y_pred']==0,1,0)\n",
    "            pos_lab['tp'] = np.where(pos_lab['y_pred']==1,1,0)\n",
    "            reweigh_results.append({'Model':label,\n",
    "                                    'BA':balanced_accuracy_score(y, y_pred),\n",
    "                                    'AUC':roc_auc_score(y, model.predict_proba(x)[:,1]),\n",
    "                                    'Race': r,\n",
    "                                    'DP':np.mean(test_set['y_pred'][test_set[r]==1])-p_white,\n",
    "                                    'FN':np.mean(pos_lab['fn'])-fn_white,\n",
    "                                    'TP':np.mean(pos_lab['tp'])-tp_white})"
   ]
  },
  {
   "cell_type": "code",
   "execution_count": null,
   "id": "d002f4c1-a718-46a4-92ba-c12cb7ceeaae",
   "metadata": {
    "tags": []
   },
   "outputs": [],
   "source": [
    "reweigh_results = pd.DataFrame(reweigh_results)"
   ]
  },
  {
   "cell_type": "code",
   "execution_count": null,
   "id": "db6bcbd5-9adb-415a-be9d-623830532db8",
   "metadata": {
    "tags": []
   },
   "outputs": [],
   "source": [
    "sns.catplot(data=reweigh_results[reweigh_results['BA'].notnull()], x='Model', y='BA', hue='Model', kind='bar', errorbar=('ci', 95))\n",
    "plt.ylim(0.5, 0.67)"
   ]
  },
  {
   "cell_type": "code",
   "execution_count": null,
   "id": "0fe78a78-bc40-459d-9143-29d0e0925cb4",
   "metadata": {},
   "outputs": [],
   "source": [
    "no_reweigh_results.to_excel(\"EPDS_no_reweigh_results_boot.xlsx\")\n",
    "reweigh_results.to_excel(\"EPDS_reweigh_results_boot.xlsx\")"
   ]
  },
  {
   "cell_type": "code",
   "execution_count": null,
   "id": "4b585c24-d1d8-4a8d-93a1-ed0c0d57eca3",
   "metadata": {},
   "outputs": [],
   "source": []
  }
 ],
 "metadata": {
  "kernelspec": {
   "display_name": "Python 3 (ipykernel)",
   "language": "python",
   "name": "python3"
  },
  "language_info": {
   "codemirror_mode": {
    "name": "ipython",
    "version": 3
   },
   "file_extension": ".py",
   "mimetype": "text/x-python",
   "name": "python",
   "nbconvert_exporter": "python",
   "pygments_lexer": "ipython3",
   "version": "3.11.5"
  }
 },
 "nbformat": 4,
 "nbformat_minor": 5
}
