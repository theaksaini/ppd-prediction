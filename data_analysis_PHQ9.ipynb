{
 "cells": [
  {
   "cell_type": "markdown",
   "id": "b2027b5e-e41c-478f-9f62-0401792651f6",
   "metadata": {},
   "source": [
    "Author: Emily Wong \\\n",
    "January 22, 2023"
   ]
  },
  {
   "cell_type": "markdown",
   "id": "ec0f048c-bd13-431b-b79d-b1de4b1c8476",
   "metadata": {},
   "source": [
    "# Resources"
   ]
  },
  {
   "cell_type": "markdown",
   "id": "4abf5e9c-bc94-410e-bdef-40393b2670b0",
   "metadata": {},
   "source": [
    "https://www.analyticsvidhya.com/blog/2018/06/comprehensive-guide-for-ensemble-models/#4"
   ]
  },
  {
   "cell_type": "markdown",
   "id": "5835ea3b-8c26-4bdb-b87a-3562c3353860",
   "metadata": {},
   "source": [
    "https://towardsdatascience.com/having-an-imbalanced-dataset-here-is-how-you-can-solve-it-1640568947eb"
   ]
  },
  {
   "cell_type": "markdown",
   "id": "ed720840-9e21-43fb-8fc5-0777bcfebe9a",
   "metadata": {},
   "source": [
    "https://neptune.ai/blog/cross-validation-mistakes"
   ]
  },
  {
   "cell_type": "markdown",
   "id": "c9c7e1be-5ddd-4911-9a86-03519a5e0df4",
   "metadata": {},
   "source": [
    "# 1. Import libraries, methods, and data"
   ]
  },
  {
   "cell_type": "markdown",
   "id": "e7c9eaeb-a2e6-47d0-a7c0-886d00fbe0c6",
   "metadata": {},
   "source": [
    "## 1.1. Libraries"
   ]
  },
  {
   "cell_type": "code",
   "execution_count": null,
   "id": "d7304b8d-d3fb-4a48-b6fd-6e9b239a0e80",
   "metadata": {
    "tags": []
   },
   "outputs": [],
   "source": [
    "import warnings\n",
    "warnings.filterwarnings('ignore')\n",
    "\n",
    "# Data wrangling\n",
    "import pandas as pd\n",
    "import numpy as np\n",
    "from numpy.random import uniform, normal, seed\n",
    "\n",
    "# Machine learning\n",
    "import sklearn\n",
    "from sklearn import svm\n",
    "from sklearn.ensemble import RandomForestClassifier, GradientBoostingClassifier, AdaBoostClassifier\n",
    "from sklearn.linear_model import LogisticRegression\n",
    "from sklearn.neural_network import MLPClassifier\n",
    "from imblearn.ensemble import BalancedBaggingClassifier\n",
    "from sklearn.tree import DecisionTreeClassifier\n",
    "from sklearn.naive_bayes import GaussianNB\n",
    "from sklearn.metrics import accuracy_score, confusion_matrix, precision_score, recall_score, ConfusionMatrixDisplay, roc_auc_score, balanced_accuracy_score\n",
    "from sklearn.model_selection import RepeatedKFold, RepeatedStratifiedKFold, RandomizedSearchCV, GridSearchCV, train_test_split\n",
    "import scipy\n",
    "from scipy.stats import randint\n",
    "import xgboost as xgb\n",
    "from imblearn.over_sampling import SMOTENC, RandomOverSampler, SMOTE\n",
    "from imblearn.under_sampling import TomekLinks, NeighbourhoodCleaningRule, EditedNearestNeighbours, RandomUnderSampler\n",
    "from imblearn.combine import SMOTEENN, SMOTETomek\n",
    "\n",
    "# Tree Visualisation\n",
    "from sklearn.tree import export_graphviz\n",
    "from IPython.display import Image\n",
    "import graphviz\n",
    "import matplotlib.pyplot as plt\n",
    "import seaborn as sns # for kernel density plots\n",
    "\n",
    "# for nested dictionary\n",
    "import collections\n",
    "def makehash():\n",
    "    return collections.defaultdict(makehash)\n",
    "\n",
    "# TPOT2\n",
    "#from dask.distributed import Client, LocalCluster\n",
    "#import tpot2\n",
    "\n",
    "# Fairness\n",
    "import aif360\n",
    "import fairlearn\n",
    "from fairlearn.metrics import demographic_parity_difference, demographic_parity_ratio, equalized_odds_difference, equalized_odds_ratio, false_negative_rate"
   ]
  },
  {
   "cell_type": "markdown",
   "id": "17ff3d45-316d-49f4-a8b4-75b4e47d6281",
   "metadata": {},
   "source": [
    "The __demographic parity difference__ of 0 means that all groups have the same selection rate. For multiple groups, average across all pairwise differences. Ranges between 0 and 1.\n",
    "\n",
    "The __demographic parity ratio__ of 1 means that all groups have the same selection rate.\n",
    "\n",
    "The __equalized odds difference__ of 0 means that all groups have the same true positive, true negative, false positive, and false negative rates.\n",
    "\n",
    "The __equalized odds ratio__ of 1 means that all groups have the same true positive, true negative, false positive, and false negative rates."
   ]
  },
  {
   "cell_type": "markdown",
   "id": "282ff032-c721-4d7f-8987-17837b27eb67",
   "metadata": {},
   "source": [
    "## 1.2 Reweighing Method"
   ]
  },
  {
   "cell_type": "code",
   "execution_count": null,
   "id": "af0268d1-547f-41cb-b0b6-5ee1b2ab1c95",
   "metadata": {
    "tags": []
   },
   "outputs": [],
   "source": [
    "def calc_weights(df, sens_features_name, outcome_name):\n",
    "    ''' Calculate sample weights according to calculationg given in \n",
    "           F. Kamiran and T. Calders,  \"Data Preprocessing Techniques for\n",
    "           Classification without Discrimination,\" Knowledge and Information\n",
    "           Systems, 2012.\n",
    "    ''' \n",
    "    \n",
    "    # combination of label and groups (outputs a table)\n",
    "    sens_features = df[sens_features_name]\n",
    "    outcome = df[outcome_name]\n",
    "    tab = pd.DataFrame(pd.crosstab(index=sens_features, columns=outcome))\n",
    "\n",
    "    # reweighing weights\n",
    "    w = makehash()\n",
    "    n = len(df)\n",
    "    for r in tab.index:\n",
    "        key1 = str(r)\n",
    "        row_sum = tab.loc[r].sum(axis=0)\n",
    "        for c in tab.columns:\n",
    "            key2 = str(c)\n",
    "            col_sum = tab[c].sum()\n",
    "            if tab.loc[r,c] == 0:\n",
    "                n_combo = 1\n",
    "            else:\n",
    "                n_combo = tab.loc[r,c]\n",
    "            val = (row_sum*col_sum)/(n*n_combo)\n",
    "            w[key1][key2] = val\n",
    "    \n",
    "    # Instance weights\n",
    "    instance_weights = []\n",
    "    for index, row in df.iterrows():\n",
    "        race = row[sens_features_name]\n",
    "        out = row[outcome_name]\n",
    "        instance_weights.append(w[race][str(out)])\n",
    "\n",
    "    return instance_weights"
   ]
  },
  {
   "cell_type": "code",
   "execution_count": null,
   "id": "00cd2dbf-90a8-41c1-9d3c-9be1005f0827",
   "metadata": {
    "tags": []
   },
   "outputs": [],
   "source": [
    "def display_performance(X_train, y_train, X_test, y_test, model):\n",
    "    # Train performance\n",
    "    y_train_pred = model.predict(X_train)\n",
    "    print(\"Train Accuracy:\", np.round(accuracy_score(y_train, y_train_pred),5))\n",
    "    print(\"Train Balanced Acc:\",np.round(sklearn.metrics.balanced_accuracy_score(y_train, y_train_pred),5))\n",
    "    #print(\"Train AUC:\",np.round(sklearn.metrics.roc_auc_score(y_train, y_train_pred, multi_class='ovo'),5))\n",
    "    #print(\"Train F1:\",np.round(sklearn.metrics.f1_score(y_train, y_train_pred),5))\n",
    "    cm = confusion_matrix(y_train, y_train_pred)\n",
    "    print(\"Train Confusion Matrix:\")\n",
    "    print(cm)\n",
    "    ConfusionMatrixDisplay(confusion_matrix=cm).plot(cmap=plt.cm.Greens);\n",
    "\n",
    "    print(\"\")\n",
    "\n",
    "    # Test performance\n",
    "    y_pred = model.predict(X_test)\n",
    "    test_accuracy = accuracy_score(y_test, y_pred)\n",
    "    print(\"Test Accuracy:\", np.round(test_accuracy,5))\n",
    "    print(\"Test Balanced Acc:\",np.round(sklearn.metrics.balanced_accuracy_score(y_test, y_pred),5))\n",
    "    #print(\"Test AUC:\",np.round(sklearn.metrics.roc_auc_score(y_test, y_pred, multi_class='ovo'),5))\n",
    "    #print(\"Test F1:\",np.round(sklearn.metrics.f1_score(y_test, y_pred),5))\n",
    "    cm = confusion_matrix(y_test, y_pred)\n",
    "    print(\"Test Confusion Matrix:\")\n",
    "    print(cm)\n",
    "    ConfusionMatrixDisplay(confusion_matrix=cm).plot(cmap=plt.cm.Greens);\n",
    "\n",
    "    print(\"\")\n",
    "\n",
    "    # Fairness metrics\n",
    "    print(\"Equalized odds difference:\",np.round(equalized_odds_difference(y_test, y_pred, sensitive_features=race_feature),2))"
   ]
  },
  {
   "cell_type": "code",
   "execution_count": null,
   "id": "733e5255-003f-4148-9f69-9840a685a869",
   "metadata": {
    "tags": []
   },
   "outputs": [],
   "source": [
    "def optim_thresh(X_test, y_test, model):\n",
    "    # Find optimal threshold\n",
    "    step_factor = 0.05 \n",
    "    threshold_value = 0.05\n",
    "    roc_score=0\n",
    "    predicted_proba = model.predict_proba(X_test) #probability of prediction\n",
    "    while threshold_value <=0.8: #continue to check best threshold upto probability 0.8\n",
    "        temp_thresh = threshold_value\n",
    "        predicted = (predicted_proba [:,1] >= temp_thresh).astype('int') #change the class boundary for prediction\n",
    "        #print('Threshold',temp_thresh,'--',roc_auc_score(y_test, predicted))\n",
    "        if roc_score<roc_auc_score(y_test, predicted, multi_class='ovo'): #store the threshold for best classification\n",
    "            roc_score = roc_auc_score(y_test, predicted)\n",
    "            thrsh_score = threshold_value\n",
    "        threshold_value = threshold_value + step_factor\n",
    "    print('---Optimum Threshold ---',np.round(thrsh_score,5),'--ROC--',np.round(roc_score,5))\n",
    "\n",
    "    optim_thresh = thrsh_score\n",
    "    y_pred_optim = (predicted_proba [:,1] >= optim_thresh).astype('int')\n",
    "    print(\"Optimal Test Accuracy:\",np.round(accuracy_score(y_test, y_pred_optim),5))\n",
    "    print(\"Optimal Test Balanced Accuracy:\",np.round(balanced_accuracy_score(y_test, y_pred_optim),5))\n",
    "    print(\"Optimal Test AUC:\",np.round(sklearn.metrics.roc_auc_score(y_test, y_pred_optim, multi_class='ovo'),5))\n",
    "\n",
    "    # Create the confusion matrix\n",
    "    cm = confusion_matrix(y_test, y_pred_optim)\n",
    "    print(\"Test Confusion Matrix w/ Optimal Threshold:\")\n",
    "    print(cm)\n",
    "    ConfusionMatrixDisplay(confusion_matrix=cm).plot(cmap=plt.cm.Greens);\n",
    "\n",
    "    print(\"\")\n",
    "\n",
    "    print(\"Equalized odds difference w/ Optimal Threshold:\",np.round(equalized_odds_difference(y_test, y_pred_optim,sensitive_features=race_feature),2))\n",
    "    "
   ]
  },
  {
   "cell_type": "markdown",
   "id": "7740d2e8-af9c-4f91-b08f-49e073dc00de",
   "metadata": {},
   "source": [
    "## 1.3. Data"
   ]
  },
  {
   "cell_type": "code",
   "execution_count": null,
   "id": "e1d5158d-a1e7-44ee-bc96-83872a364881",
   "metadata": {
    "tags": []
   },
   "outputs": [],
   "source": [
    "all_data = pd.read_excel(\"Eynav cleaned data.xlsx\")"
   ]
  },
  {
   "cell_type": "code",
   "execution_count": null,
   "id": "5c280642-2dc3-4604-8a08-5593f4ea733a",
   "metadata": {
    "tags": []
   },
   "outputs": [],
   "source": [
    "outcome = 'PHQ9_risk2'\n",
    "\n",
    "data = all_data[['MOM_AGE','MOM_RACE','ETHNIC_GROUP','ZIP','MARITAL_STATUS','FINANCIAL_CLASS',\n",
    "                 #'GRAVIDITY','PARITY','ABORTIONS',\n",
    "                 #'CHILD_BIRTH_WT','CHILD_GESTATION_AGE_NUMBER',\n",
    "                 'LBW','PTB',\n",
    "                 'DELIVERY_METHOD','NICU_ADMIT','MFCU_ADMIT',\n",
    "                 'PREE','GDM','GHTN',\n",
    "                 'MOM_BMI','MOM_LOS','CHILD_LOS',\n",
    "                 'HIST_ANXIETY','HIST_DEPRESS','HIST_BIPOLAR','HIST_OTHER',\n",
    "                 'MED_PSYCH','MED_CARDIO',\n",
    "                 outcome,'PHQ9_VALUE']]"
   ]
  },
  {
   "cell_type": "markdown",
   "id": "d5ddfc81-a213-4077-a476-a9133b941b89",
   "metadata": {},
   "source": [
    "## 1.3.3. Curate Data"
   ]
  },
  {
   "cell_type": "code",
   "execution_count": null,
   "id": "beb2829b-4b79-4540-9de3-963432722234",
   "metadata": {
    "tags": []
   },
   "outputs": [],
   "source": [
    "data = data.dropna()            # keep only complete data (for now)\n",
    "data = data.sample(len(data))   # randomly shuffle rows\n",
    "data.shape"
   ]
  },
  {
   "cell_type": "code",
   "execution_count": null,
   "id": "ee0d018f-afc1-4664-bed8-9fca41eee492",
   "metadata": {
    "tags": []
   },
   "outputs": [],
   "source": [
    "scale_data = data[['MOM_RACE','ETHNIC_GROUP','PHQ9_VALUE','PHQ9_risk2']]"
   ]
  },
  {
   "cell_type": "code",
   "execution_count": null,
   "id": "430ebd14-5746-4562-b856-90c9f2982b83",
   "metadata": {
    "tags": []
   },
   "outputs": [],
   "source": [
    "scale_data2 = scale_data[scale_data.PHQ9_risk2==1]\n",
    "\n",
    "# create a grid \n",
    "g = sns.FacetGrid(scale_data2, col='MOM_RACE', hue='MOM_RACE', col_wrap=3)\n",
    "\n",
    "# draw density plots\n",
    "g = g.map(sns.kdeplot,\"PHQ9_VALUE\", cut=0, fill=True, common_norm=False, alpha=1, legend=False)\n",
    "\n",
    "# control the title of each facet\n",
    "g = g.set_titles(\"{col_name}\")\n",
    "\n",
    "# show the graph\n",
    "#plt.show()\n",
    "\n",
    "plt.savefig('Figure 1.png',dpi=350)"
   ]
  },
  {
   "cell_type": "code",
   "execution_count": null,
   "id": "000904b0-e29e-4f9a-84e1-cf945a5c99d8",
   "metadata": {},
   "outputs": [],
   "source": [
    "data = data.drop(['PHQ9_VALUE'], axis=1)"
   ]
  },
  {
   "cell_type": "code",
   "execution_count": null,
   "id": "ec555ea8-fc33-4e73-b6d6-fb4cdfbef1d4",
   "metadata": {
    "tags": []
   },
   "outputs": [],
   "source": [
    "race = data['MOM_RACE']\n",
    "ethnic = data['ETHNIC_GROUP']\n",
    "out = data[outcome]\n",
    "\n",
    "print(\"------------MEDIAN AGE------------\")\n",
    "print(pd.crosstab(index=race, columns=ethnic, values=data['MOM_AGE'], aggfunc=np.median))\n",
    "print(\"Overall median age:\",np.median(data[['MOM_AGE']]))\n",
    "\n",
    "print(\"------------RACE/ETHNIC COUNTS------------\")\n",
    "print(pd.DataFrame(pd.crosstab(index=race, columns=ethnic)))\n",
    "\n",
    "print(\"------------RACE/ETHNIC PMAD------------\")\n",
    "print(pd.crosstab(index=[ethnic,race], columns=out, normalize='index'))\n",
    "\n",
    "print(\"Overall PMAD:\",np.mean(data[[outcome]]))"
   ]
  },
  {
   "cell_type": "code",
   "execution_count": null,
   "id": "ff0ed39c-8fcc-4e4a-9815-3fadb112d65b",
   "metadata": {
    "tags": []
   },
   "outputs": [],
   "source": [
    "# binary-class\n",
    "count0, count1 = data[outcome].value_counts()\n",
    "print(count0, count1)\n",
    "\n",
    "x = ['0','1']\n",
    "y = [count0, count1]\n",
    "plt.bar(x, y)"
   ]
  },
  {
   "cell_type": "code",
   "execution_count": null,
   "id": "e8ae4e6a-4a24-469c-82d6-1b78cdfdf199",
   "metadata": {
    "tags": []
   },
   "outputs": [],
   "source": [
    "print(\"N:\",data.shape)"
   ]
  },
  {
   "cell_type": "markdown",
   "id": "bb70876a-2439-4feb-9eb7-80b3b5c42705",
   "metadata": {},
   "source": [
    "## 1.3.4. Weight Data"
   ]
  },
  {
   "cell_type": "code",
   "execution_count": null,
   "id": "6c9edb6a-ac6a-4fce-a630-3aa184c70f1e",
   "metadata": {
    "tags": []
   },
   "outputs": [],
   "source": [
    "data['w'] = calc_weights(df=data, sens_features_name=\"MOM_RACE\", outcome_name=outcome)"
   ]
  },
  {
   "cell_type": "markdown",
   "id": "3ef39be7-18ca-4472-8d60-94e27e1bf103",
   "metadata": {},
   "source": [
    "## 1.3.5. Get Dummies and Split"
   ]
  },
  {
   "cell_type": "code",
   "execution_count": null,
   "id": "a59f1b66-2d4d-4946-beb2-84c5cf66cd51",
   "metadata": {
    "tags": []
   },
   "outputs": [],
   "source": [
    "# get dummy variables\n",
    "data = pd.get_dummies(data)"
   ]
  },
  {
   "cell_type": "markdown",
   "id": "4c295f69-bf12-45c5-a695-9f82d7d7e68f",
   "metadata": {},
   "source": [
    "Split data. Can specify whether to use stratify sampling or not."
   ]
  },
  {
   "cell_type": "code",
   "execution_count": null,
   "id": "ac1776d1-d791-442e-8088-df078e882ced",
   "metadata": {
    "tags": []
   },
   "outputs": [],
   "source": [
    "# split into X and y\n",
    "X = data.drop([outcome], axis=1)\n",
    "y = data[[outcome]]\n",
    "\n",
    "# Split the data into training and test sets\n",
    "X_train, X_test, y_train, y_test = train_test_split(X, y, train_size=0.85, test_size=0.15, shuffle=True, stratify=y, random_state=0)\n",
    "X_test = X_test.drop(['w'], axis=1)\n",
    "\n",
    "# Sensitive features\n",
    "race_feature = X_test[['MOM_RACE_Asian or Native Hawaiian or Other Pacific Islander',\n",
    "                       'MOM_RACE_Black or African American',\n",
    "                       'MOM_RACE_Multiracial',\n",
    "                       'MOM_RACE_Other',\n",
    "                       'MOM_RACE_Unknown',\n",
    "                       'MOM_RACE_White',\n",
    "                       'MOM_RACE_Hispanic White']]"
   ]
  },
  {
   "cell_type": "code",
   "execution_count": null,
   "id": "74342e39-7fdf-40c0-b13e-47b4f54cc4bc",
   "metadata": {
    "tags": []
   },
   "outputs": [],
   "source": [
    "# binary-class\n",
    "count0_train, count1_train = y_train.value_counts()\n",
    "print(count0_train, count1_train)\n",
    "\n",
    "count0_test, count1_test = y_test.value_counts()\n",
    "print(count0_test, count1_test)"
   ]
  },
  {
   "cell_type": "markdown",
   "id": "5c8279fc-a583-4003-8370-3156c6b3e51b",
   "metadata": {},
   "source": [
    "# 2. Handle imbalanced data"
   ]
  },
  {
   "cell_type": "markdown",
   "id": "ffcdb97c-9131-4b4e-9a9a-e1682a12f6fd",
   "metadata": {},
   "source": [
    "## 2.1. Simple Over Sampling Minority (PMAD)"
   ]
  },
  {
   "cell_type": "code",
   "execution_count": null,
   "id": "087ff68c-19b5-4347-b37d-3d188d7880d8",
   "metadata": {
    "tags": []
   },
   "outputs": [],
   "source": [
    "ros = RandomOverSampler(sampling_strategy = \"auto\",random_state=0)\n",
    "X_train_ros, y_train_ros = ros.fit_resample(X_train, y_train)\n",
    "weights_ros = X_train_ros['w']\n",
    "X_train_ros = X_train_ros.drop(['w'], axis=1)\n",
    "y_train_ros.value_counts()"
   ]
  },
  {
   "cell_type": "markdown",
   "id": "fdf9eeca-143a-43ef-8267-f856033ef710",
   "metadata": {},
   "source": [
    "## 2.2. Simple Under Sampling Majority (PMAD)"
   ]
  },
  {
   "cell_type": "code",
   "execution_count": null,
   "id": "18ec6feb-0165-4b67-bc17-ce847624fc26",
   "metadata": {
    "tags": []
   },
   "outputs": [],
   "source": [
    "rus = RandomUnderSampler(sampling_strategy = \"auto\", random_state=0)\n",
    "X_train_rus, y_train_rus = rus.fit_resample(X_train, y_train)\n",
    "weights_rus = X_train_rus['w']\n",
    "X_train_rus = X_train_rus.drop(['w'], axis=1)\n",
    "y_train_rus.value_counts()"
   ]
  },
  {
   "cell_type": "markdown",
   "id": "8b7b0d9a-4526-450f-b818-801ee4c46dd3",
   "metadata": {},
   "source": [
    "# 3. Modeling"
   ]
  },
  {
   "cell_type": "code",
   "execution_count": null,
   "id": "0436c426-f293-4bc8-9fae-889ec3613e65",
   "metadata": {
    "tags": []
   },
   "outputs": [],
   "source": [
    "# Extract weights and drop from training and test data frames\n",
    "weights = X_train['w']\n",
    "X_train = X_train.drop(['w'], axis=1)"
   ]
  },
  {
   "cell_type": "markdown",
   "id": "bd54706e-b6e2-4c46-adc5-84a94eb2a1a6",
   "metadata": {},
   "source": [
    "## XG Boost Classifier"
   ]
  },
  {
   "cell_type": "markdown",
   "id": "bcab2af6-5d71-4ca2-929a-3f740c5ef5a8",
   "metadata": {},
   "source": [
    "https://www.kaggle.com/code/stuarthallows/using-xgboost-with-scikit-learn"
   ]
  },
  {
   "cell_type": "markdown",
   "id": "456163af-7dcd-4173-94a4-09acea9f4b8d",
   "metadata": {},
   "source": [
    "### Finetune XG Boost Classifier Through Randomized Search CV"
   ]
  },
  {
   "cell_type": "code",
   "execution_count": null,
   "id": "b308cbc3-7dce-4a92-a329-b9441edd64a2",
   "metadata": {
    "tags": []
   },
   "outputs": [],
   "source": [
    "x = X_train_rus\n",
    "y = y_train_rus.values.ravel()\n",
    "w = weights_rus\n",
    "\n",
    "xgb_model = xgb.XGBClassifier(objective=\"binary:logistic\", random_state=0)\n",
    "\n",
    "params = {\"colsample_bytree\": [0.3, 0.4, 0.5, 0.6, 0.7],\n",
    "          \"gamma\": [0, 0.1, 0.2, 0.3, 0.4, 0.5],\n",
    "          \"learning_rate\": [0.01, 0.05, 0.1, 0.2,  0.3], # default 0.1\n",
    "          \"n_estimators\": list(range(100,150+1)), # 100 to 150\n",
    "          \"subsample\": [0.4,0.5,0.6],\n",
    "          \"alpha\":[0,5,10,25,50,75,100],\n",
    "          \"lambda\": [0,5,10,25,50,75,100]\n",
    "          }\n",
    "\n",
    "rkf = RepeatedStratifiedKFold(n_splits=5, n_repeats=5, random_state=0)\n",
    "rand_search = RandomizedSearchCV(xgb_model, \n",
    "                                 param_distributions=params, \n",
    "                                 random_state=42, \n",
    "                                 n_iter=10, \n",
    "                                 cv=rkf, \n",
    "                                 verbose=1, \n",
    "                                 n_jobs=1, \n",
    "                                 return_train_score=True,\n",
    "                                 scoring = ['balanced_accuracy','f1','roc_auc'],\n",
    "                                 refit = 'roc_auc')\n",
    "\n",
    "rand_search.fit(x, y,sample_weight=w)"
   ]
  },
  {
   "cell_type": "code",
   "execution_count": null,
   "id": "9a0cb665-af10-473d-a458-373884b4b8e7",
   "metadata": {
    "tags": []
   },
   "outputs": [],
   "source": [
    "best_xgb = rand_search.best_estimator_\n",
    "print('XGB  best hyperparameters:',  rand_search.best_params_)\n",
    "\n",
    "display_performance(X_train=x, y_train=y, X_test=X_test, y_test=y_test, model=best_xgb)"
   ]
  },
  {
   "cell_type": "code",
   "execution_count": null,
   "id": "b6a7394f-8b01-40be-a610-83dd25642cd8",
   "metadata": {
    "tags": []
   },
   "outputs": [],
   "source": [
    "optim_thresh(X_test=X_test, y_test=y_test, model=best_xgb)"
   ]
  },
  {
   "cell_type": "markdown",
   "id": "a089e73b-0863-4357-8fb9-a84086c07a3f",
   "metadata": {},
   "source": [
    "### Finetuned XG Boost Classifier"
   ]
  },
  {
   "cell_type": "markdown",
   "id": "40d0b97f-5752-4a12-a524-0722af8331d9",
   "metadata": {},
   "source": [
    "XGB  best hyperparameters: {'subsample': 0.4, 'n_estimators': 136, 'learning_rate': 0.01, 'lambda': 50, 'gamma': 0.2, 'colsample_bytree': 0.6, 'alpha': 0}\n",
    "\n",
    "---Optimum Threshold --- 0.50"
   ]
  },
  {
   "cell_type": "code",
   "execution_count": null,
   "id": "5ce50483-1e69-44fc-94ef-8be381e9fe83",
   "metadata": {
    "tags": []
   },
   "outputs": [],
   "source": [
    "x = X_train_rus\n",
    "y = y_train_rus.values.ravel()\n",
    "w = weights_rus\n",
    "\n",
    "xgb_model = xgb.XGBClassifier(objective=\"binary:logistic\", random_state=0, subsample=0.4, n_estimators=136, \n",
    "                              learning_rate=0.01, reg_lambda=50, gamma=0.2, colsample_bytree=0.6, alpha=0)\n",
    "xgb_model.fit(x,y,sample_weight=w)\n",
    "optim_thresh(X_test=X_test, y_test=y_test, model=xgb_model)"
   ]
  },
  {
   "cell_type": "markdown",
   "id": "64fcecf6-efb5-44a5-9eca-21964f2d42d1",
   "metadata": {},
   "source": [
    "## Balanced Bagging Classifer"
   ]
  },
  {
   "cell_type": "markdown",
   "id": "dca9c203-ce99-49ce-9c41-9266efa3ebff",
   "metadata": {},
   "source": [
    "### Finetune Balanced Bagging Classifier Through Randomized Search CV"
   ]
  },
  {
   "cell_type": "code",
   "execution_count": null,
   "id": "70715aa8-edaf-46be-a9af-bd3900f28264",
   "metadata": {
    "tags": []
   },
   "outputs": [],
   "source": [
    "x = X_train\n",
    "y = y_train.values.ravel()\n",
    "w = weights\n",
    "\n",
    "\n",
    "bbc = BalancedBaggingClassifier(random_state=0, \n",
    "                                sampling_strategy='auto',\n",
    "                                base_estimator=xgb_model)\n",
    "parameter_space = {'max_features': [0.9,0.95,0.96,0.97,0.98,0.99,1.0],\n",
    "                   'n_estimators': list(range(5,15+1)) # 5 to 15\n",
    "                  }\n",
    "\n",
    "# Use random search to find the best hyperparameters\n",
    "rkf = RepeatedStratifiedKFold(n_splits=5, n_repeats=5, random_state=0)\n",
    "rand_search = RandomizedSearchCV(bbc, \n",
    "                                 param_distributions = parameter_space,\n",
    "                                 random_state=42,\n",
    "                                 n_iter=10, \n",
    "                                 cv=rkf,\n",
    "                                 verbose=1,\n",
    "                                 n_jobs=1, \n",
    "                                 return_train_score=True,\n",
    "                                 scoring = ['balanced_accuracy','f1','roc_auc'],\n",
    "                                 refit = 'roc_auc')\n",
    "\n",
    "# Fit the random search object to the data\n",
    "rand_search.fit(X_train, y_train.values.ravel())"
   ]
  },
  {
   "cell_type": "code",
   "execution_count": null,
   "id": "e5063fad-72fc-46b4-b6e1-4bf6059fe3c0",
   "metadata": {
    "tags": []
   },
   "outputs": [],
   "source": [
    "best_bbc = rand_search.best_estimator_\n",
    "print('Ensemble best hyperparameters:',  rand_search.best_params_)\n",
    "\n",
    "display_performance(X_train=x, y_train=y, X_test=X_test, y_test=y_test, model=best_bbc)\n",
    "\n",
    "optim_thresh(X_test=X_test, y_test=y_test, model=best_bbc)"
   ]
  },
  {
   "cell_type": "markdown",
   "id": "5ee01458-734e-4420-95c3-5392f50fd99a",
   "metadata": {},
   "source": [
    "### Finetuned Balanced Bagging Classifier"
   ]
  },
  {
   "cell_type": "markdown",
   "id": "505ffbfb-e112-468a-af18-2eae3e4c9872",
   "metadata": {},
   "source": [
    "Ensemble best hyperparameters: {'n_estimators': 9, 'max_features': 0.9}"
   ]
  },
  {
   "cell_type": "code",
   "execution_count": null,
   "id": "bdfa4025-9ccf-42cc-8d18-488cf3ecea52",
   "metadata": {
    "tags": []
   },
   "outputs": [],
   "source": [
    "x = X_train\n",
    "y = y_train.values.ravel()\n",
    "w = weights\n",
    "\n",
    "bbc_model = BalancedBaggingClassifier(random_state=0,sampling_strategy='auto',base_estimator=xgb_model,\n",
    "                                      n_estimators=9, max_features=0.9)\n",
    "bbc_model.fit(x,y)\n",
    "optim_thresh(X_test=X_test, y_test=y_test, model=bbc_model)"
   ]
  },
  {
   "cell_type": "code",
   "execution_count": null,
   "id": "9b868bfa-35c9-41e8-abc3-7497bdfac7fa",
   "metadata": {
    "tags": []
   },
   "outputs": [],
   "source": [
    "y_pred_orig = bbc_model.predict_proba(X_test)\n",
    "y_pred_optim = (y_pred_orig [:,1] >= 0.50).astype('int') #change the class boundary for prediction\n",
    "\n",
    "from fairlearn.metrics import MetricFrame, false_negative_rate\n",
    "mf = MetricFrame(metrics={'fnr': false_negative_rate},\n",
    "                y_true = y_test,\n",
    "                y_pred = y_pred_optim,\n",
    "                sensitive_features=race_feature)\n",
    "print(mf.by_group) # what is this output?\n",
    "#print(mf.difference())"
   ]
  },
  {
   "cell_type": "code",
   "execution_count": null,
   "id": "66204130-af1f-4fd5-8ce2-7d2f83717eee",
   "metadata": {
    "tags": []
   },
   "outputs": [],
   "source": [
    "races = ['MOM_RACE_Asian or Native Hawaiian or Other Pacific Islander',\n",
    "         'MOM_RACE_Black or African American',\n",
    "         'MOM_RACE_Hispanic White',\n",
    "         'MOM_RACE_Multiracial',\n",
    "         'MOM_RACE_Other',\n",
    "         'MOM_RACE_Unknown',\n",
    "         'MOM_RACE_White']\n",
    "\n",
    "y_pred = best_bbc.predict(X_test)\n",
    "optim_threshold = 0.5\n",
    "y_pred_optim = (best_bbc.predict_proba(X_test)[:,1] >= optim_threshold).astype('int')\n",
    "for r in races:\n",
    "    feature = X_test[[r]]\n",
    "    measure = np.round(equalized_odds_difference(y_test, y_pred, sensitive_features=feature),5)\n",
    "    print(\"Equalized odds difference:\",r,\":\",measure)"
   ]
  },
  {
   "cell_type": "markdown",
   "id": "0c9262e3-6446-4cf8-90af-c9ee919be957",
   "metadata": {},
   "source": [
    "## Logistic Regression"
   ]
  },
  {
   "cell_type": "markdown",
   "id": "e0a0b7c2-6926-4330-b895-120fc216bc6e",
   "metadata": {},
   "source": [
    "### Finetune Logistic Regression Through Randomized Search CV"
   ]
  },
  {
   "cell_type": "code",
   "execution_count": null,
   "id": "43792419-8125-44f8-8c86-d4a5ec427267",
   "metadata": {
    "tags": []
   },
   "outputs": [],
   "source": [
    "x = X_train_rus\n",
    "y = y_train_rus.values.ravel()\n",
    "w = weights_rus\n",
    "\n",
    "glm = LogisticRegression(max_iter=1000, solver='liblinear')\n",
    "\n",
    "seed(0)\n",
    "parameter_space = {'class_weight': [{0:1, 1:2},{0:1, 1:3},{0:1, 1:5},{0:1, 1:5},{0:1, 1:6},{0:1, 1:7},{0:1, 1:8},{0:1, 1:9},{0:1, 1:10},\n",
    "                                    {0:2, 1:2},{0:2, 1:3},{0:2, 1:5},{0:2, 1:5},{0:2, 1:6},{0:2, 1:7},{0:2, 1:8},{0:2, 1:9},{0:2, 1:10},\n",
    "                                    {0:3, 1:2},{0:3, 1:3},{0:3, 1:5},{0:3, 1:5},{0:3, 1:6},{0:3, 1:7},{0:3, 1:8},{0:3, 1:9},{0:3, 1:10}]\n",
    "                  }\n",
    "\n",
    "# Use random search to find the best hyperparameters\n",
    "rkf = RepeatedStratifiedKFold(n_splits=5, n_repeats=5, random_state=0)\n",
    "rand_search = RandomizedSearchCV(glm, \n",
    "                                 param_distributions = parameter_space, \n",
    "                                 random_state=42,\n",
    "                                 n_iter=10, \n",
    "                                 cv=rkf,\n",
    "                                 verbose=1,\n",
    "                                 scoring = ['balanced_accuracy','f1','roc_auc'],\n",
    "                                 refit = 'roc_auc')\n",
    "\n",
    "# Fit the random search object to the data\n",
    "rand_search.fit(x, y, sample_weight=w)"
   ]
  },
  {
   "cell_type": "code",
   "execution_count": null,
   "id": "a9cfea1d-4693-49cb-a37a-bc81123a8afa",
   "metadata": {
    "tags": []
   },
   "outputs": [],
   "source": [
    "# Print the best hyperparameters\n",
    "best_glm = rand_search.best_estimator_\n",
    "print('Best GLM hyperparameters:',  rand_search.best_params_)\n",
    "\n",
    "display_performance(X_train=x, y_train=y, X_test=X_test, y_test=y_test, model=best_glm)"
   ]
  },
  {
   "cell_type": "code",
   "execution_count": null,
   "id": "aabd1b25-b8b0-40d0-9990-8c00b887f1f9",
   "metadata": {
    "tags": []
   },
   "outputs": [],
   "source": [
    "optim_thresh(X_test=X_test, y_test=y_test, model=best_glm)"
   ]
  },
  {
   "cell_type": "markdown",
   "id": "e576a9b6-62a6-4361-85f0-59f82e0f0c02",
   "metadata": {},
   "source": [
    "### Finetuned Logistic Regression"
   ]
  },
  {
   "cell_type": "code",
   "execution_count": null,
   "id": "a6790b8e-fd62-47b3-a49d-2db4c9e28fc5",
   "metadata": {
    "tags": []
   },
   "outputs": [],
   "source": [
    "x = X_train_rus\n",
    "y = y_train_rus.values.ravel()\n",
    "w = weights_rus\n",
    "\n",
    "glm_model = LogisticRegression(max_iter=1000, solver='liblinear',class_weight= {0: 1, 1: 2},random_state=0)\n",
    "glm_model.fit(x, y, sample_weight=w)\n",
    "optim_thresh(X_test=X_test, y_test=y_test, model=glm_model)"
   ]
  },
  {
   "cell_type": "markdown",
   "id": "05801c3f-dc88-4e80-b6c3-00dcce6cffa9",
   "metadata": {},
   "source": [
    "## Random Forest"
   ]
  },
  {
   "cell_type": "markdown",
   "id": "8ece2000-9b22-4aa5-be54-30f5146c7d94",
   "metadata": {},
   "source": [
    "### Finetune Random Forest Through Randomized Search CV"
   ]
  },
  {
   "cell_type": "code",
   "execution_count": null,
   "id": "d0c1b873-e142-4eb2-b121-22b833fa4e01",
   "metadata": {
    "tags": []
   },
   "outputs": [],
   "source": [
    "x = X_train_rus\n",
    "y = y_train_rus.values.ravel()\n",
    "w = weights_rus\n",
    "\n",
    "rf = RandomForestClassifier(max_features='sqrt',random_state=0)\n",
    "\n",
    "seed(1)\n",
    "parameter_space = {'min_samples_split':np.round(uniform(1,50,20),0).astype('int64'),\n",
    "                   'min_samples_leaf':np.round(uniform(1,50,20),0).astype('int64'),\n",
    "                   'n_estimators': np.round(uniform(50,500,20),0).astype('int64'),\n",
    "                   'max_depth': np.round(uniform(1,20,20),0).astype('int64')\n",
    "                  }\n",
    "\n",
    "# Use random search to find the best hyperparameters\n",
    "rkf = RepeatedStratifiedKFold(n_splits=5, n_repeats=5, random_state=0)\n",
    "rand_search = RandomizedSearchCV(rf, \n",
    "                                 param_distributions = parameter_space, \n",
    "                                 n_iter=10, \n",
    "                                 cv=rkf,\n",
    "                                 verbose=1,\n",
    "                                 random_state=42,\n",
    "                                 scoring = ['balanced_accuracy','f1','roc_auc'],\n",
    "                                 refit = 'roc_auc')\n",
    "\n",
    "# Fit the random search object to the data\n",
    "rand_search.fit(x, y, sample_weight=w)"
   ]
  },
  {
   "cell_type": "code",
   "execution_count": null,
   "id": "3e74a0b2-5be6-4089-bc98-36f14dac68f8",
   "metadata": {
    "tags": []
   },
   "outputs": [],
   "source": [
    "best_rf = rand_search.best_estimator_\n",
    "print('RF Best hyperparameters:',  rand_search.best_params_)\n",
    "\n",
    "display_performance(X_train=x, y_train=y, X_test=X_test, y_test=y_test, model=best_rf)"
   ]
  },
  {
   "cell_type": "code",
   "execution_count": null,
   "id": "2b276da4-ec2a-45f6-91b7-1a6742beedbc",
   "metadata": {
    "tags": []
   },
   "outputs": [],
   "source": [
    "optim_thresh(X_test=X_test, y_test=y_test, model=best_rf)"
   ]
  },
  {
   "cell_type": "markdown",
   "id": "8c0dba2c-abdd-4a74-af0e-b7df7e9d4f14",
   "metadata": {},
   "source": [
    "### Finetuned Random Forest"
   ]
  },
  {
   "cell_type": "markdown",
   "id": "9d1ba2f4-4204-4c83-b065-cc93e81dc405",
   "metadata": {},
   "source": [
    "RF Best hyperparameters: {'n_estimators': 271, 'min_samples_split': 8, 'min_samples_leaf': 38, 'max_depth': 4}"
   ]
  },
  {
   "cell_type": "code",
   "execution_count": null,
   "id": "f7c28f32-ce4e-4e66-a891-a79fed9a9744",
   "metadata": {
    "tags": []
   },
   "outputs": [],
   "source": [
    "x = X_train_rus\n",
    "y = y_train_rus.values.ravel()\n",
    "w = weights_rus\n",
    "\n",
    "rf_model = RandomForestClassifier(max_features='sqrt', n_estimators=271, min_samples_split=8,\n",
    "                                  min_samples_leaf=38, max_depth=4, random_state=0)\n",
    "rf_model.fit(x, y, sample_weight=w)\n",
    "optim_thresh(X_test=X_test, y_test=y_test, model=rf_model)"
   ]
  },
  {
   "cell_type": "code",
   "execution_count": null,
   "id": "3fc9c4b6-9f3a-4d41-b74b-e1aaa70e7899",
   "metadata": {
    "scrolled": true,
    "tags": []
   },
   "outputs": [],
   "source": [
    "# all races together\n",
    "from fairlearn.metrics import MetricFrame, true_positive_rate, false_positive_rate\n",
    "mf = MetricFrame(metrics={'tpr' : true_positive_rate,\n",
    "                          'fpr' : false_positive_rate,\n",
    "                         },\n",
    "                 y_true = y_test,\n",
    "                 y_pred = y_pred,\n",
    "                 sensitive_features=race_feature,\n",
    "                )\n",
    "print(mf.by_group)\n",
    "print(mf.difference())"
   ]
  },
  {
   "cell_type": "code",
   "execution_count": null,
   "id": "bde853e5-10e3-4c22-89a0-faf1ae26ee38",
   "metadata": {
    "tags": []
   },
   "outputs": [],
   "source": [
    "# only one race\n",
    "mf = MetricFrame(metrics={'tpr' : true_positive_rate,\n",
    "                          'fpr' : false_positive_rate,\n",
    "                          'fnr' : false_negative_rate\n",
    "                         },\n",
    "                 y_true = y_test,\n",
    "                 y_pred = y_pred,\n",
    "                 sensitive_features=race_feature['MOM_RACE_Hispanic White'],\n",
    "                )\n",
    "print(mf.by_group)\n",
    "print(mf.difference())"
   ]
  },
  {
   "cell_type": "code",
   "execution_count": null,
   "id": "81bf0d8b-47e5-40c9-ab0f-b6f401510734",
   "metadata": {
    "tags": []
   },
   "outputs": [],
   "source": [
    "races = ['MOM_RACE_Asian or Native Hawaiian or Other Pacific Islander',\n",
    "         'MOM_RACE_Black or African American',\n",
    "         'MOM_RACE_Latinx',\n",
    "         'MOM_RACE_Multiracial',\n",
    "         'MOM_RACE_Other',\n",
    "         'MOM_RACE_Unknown',\n",
    "         'MOM_RACE_White']\n",
    "\n",
    "y_pred = best_rf.predict(X_test)\n",
    "optim_threshold = 0.5\n",
    "y_pred_optim = (best_rf.predict_proba(X_test)[:,1] >= optim_threshold).astype('int')\n",
    "for r in races:\n",
    "    feature = X_test[[r]]\n",
    "    measure = np.round(equalized_odds_difference(y_test, y_pred, sensitive_features=feature),5)\n",
    "    print(\"Equalized odds difference:\",r,\":\",measure)"
   ]
  },
  {
   "cell_type": "code",
   "execution_count": null,
   "id": "b9f11594-5cca-4820-adf7-88f36b1ff098",
   "metadata": {},
   "outputs": [],
   "source": [
    "# save this file and output as html\n",
    "import os\n",
    "os.system('jupyter nbconvert --to html data_analysis.ipynb')"
   ]
  }
 ],
 "metadata": {
  "kernelspec": {
   "display_name": "Python 3 (ipykernel)",
   "language": "python",
   "name": "python3"
  },
  "language_info": {
   "codemirror_mode": {
    "name": "ipython",
    "version": 3
   },
   "file_extension": ".py",
   "mimetype": "text/x-python",
   "name": "python",
   "nbconvert_exporter": "python",
   "pygments_lexer": "ipython3",
   "version": "3.11.5"
  }
 },
 "nbformat": 4,
 "nbformat_minor": 5
}
