{
 "cells": [
  {
   "cell_type": "markdown",
   "id": "b2027b5e-e41c-478f-9f62-0401792651f6",
   "metadata": {},
   "source": [
    "Author: Emily Wong \\\n",
    "February 16, 2023"
   ]
  },
  {
   "cell_type": "markdown",
   "id": "ec0f048c-bd13-431b-b79d-b1de4b1c8476",
   "metadata": {},
   "source": [
    "# Resources"
   ]
  },
  {
   "cell_type": "markdown",
   "id": "4abf5e9c-bc94-410e-bdef-40393b2670b0",
   "metadata": {},
   "source": [
    "https://www.analyticsvidhya.com/blog/2018/06/comprehensive-guide-for-ensemble-models/#4"
   ]
  },
  {
   "cell_type": "markdown",
   "id": "5835ea3b-8c26-4bdb-b87a-3562c3353860",
   "metadata": {},
   "source": [
    "https://towardsdatascience.com/having-an-imbalanced-dataset-here-is-how-you-can-solve-it-1640568947eb"
   ]
  },
  {
   "cell_type": "markdown",
   "id": "ed720840-9e21-43fb-8fc5-0777bcfebe9a",
   "metadata": {},
   "source": [
    "https://neptune.ai/blog/cross-validation-mistakes"
   ]
  },
  {
   "cell_type": "markdown",
   "id": "c9c7e1be-5ddd-4911-9a86-03519a5e0df4",
   "metadata": {},
   "source": [
    "# 1. Import libraries, methods, and data"
   ]
  },
  {
   "cell_type": "markdown",
   "id": "e7c9eaeb-a2e6-47d0-a7c0-886d00fbe0c6",
   "metadata": {},
   "source": [
    "## 1.1. Libraries"
   ]
  },
  {
   "cell_type": "code",
   "execution_count": 2,
   "id": "d7304b8d-d3fb-4a48-b6fd-6e9b239a0e80",
   "metadata": {
    "tags": []
   },
   "outputs": [],
   "source": [
    "import warnings\n",
    "warnings.filterwarnings('ignore')\n",
    "\n",
    "# Data wrangling\n",
    "import pandas as pd\n",
    "import numpy as np\n",
    "from numpy.random import uniform, normal, seed\n",
    "\n",
    "# Machine learning\n",
    "import sklearn\n",
    "from sklearn import svm\n",
    "from sklearn.ensemble import RandomForestClassifier, GradientBoostingClassifier, AdaBoostClassifier\n",
    "from sklearn.linear_model import LogisticRegression\n",
    "from sklearn.neural_network import MLPClassifier\n",
    "from imblearn.ensemble import BalancedBaggingClassifier\n",
    "from sklearn.tree import DecisionTreeClassifier\n",
    "from sklearn.naive_bayes import GaussianNB\n",
    "from sklearn.metrics import accuracy_score, confusion_matrix, precision_score, recall_score, ConfusionMatrixDisplay, roc_auc_score, balanced_accuracy_score\n",
    "from sklearn.model_selection import RepeatedKFold, RepeatedStratifiedKFold, RandomizedSearchCV, GridSearchCV, train_test_split\n",
    "import scipy\n",
    "from scipy.stats import randint\n",
    "import xgboost as xgb\n",
    "from imblearn.over_sampling import SMOTENC, RandomOverSampler, SMOTE\n",
    "from imblearn.under_sampling import TomekLinks, NeighbourhoodCleaningRule, EditedNearestNeighbours, RandomUnderSampler\n",
    "from imblearn.combine import SMOTEENN, SMOTETomek\n",
    "import optuna\n",
    "\n",
    "# Tree Visualisation\n",
    "from sklearn.tree import export_graphviz\n",
    "from IPython.display import Image\n",
    "import graphviz\n",
    "import matplotlib.pyplot as plt\n",
    "import seaborn as sns # for kernel density plots\n",
    "\n",
    "# for nested dictionary\n",
    "import collections\n",
    "def makehash():\n",
    "    return collections.defaultdict(makehash)\n",
    "\n",
    "# Fairness\n",
    "import aif360\n",
    "import fairlearn\n",
    "from fairlearn.metrics import demographic_parity_difference, demographic_parity_ratio, equalized_odds_difference, equalized_odds_ratio, false_negative_rate"
   ]
  },
  {
   "cell_type": "markdown",
   "id": "17ff3d45-316d-49f4-a8b4-75b4e47d6281",
   "metadata": {},
   "source": [
    "The __demographic parity difference__ of 0 means that all groups have the same selection rate. For multiple groups, average across all pairwise differences. Ranges between 0 and 1.\n",
    "\n",
    "The __demographic parity ratio__ of 1 means that all groups have the same selection rate.\n",
    "\n",
    "The __equalized odds difference__ of 0 means that all groups have the same true positive, true negative, false positive, and false negative rates.\n",
    "\n",
    "The __equalized odds ratio__ of 1 means that all groups have the same true positive, true negative, false positive, and false negative rates."
   ]
  },
  {
   "cell_type": "markdown",
   "id": "282ff032-c721-4d7f-8987-17837b27eb67",
   "metadata": {},
   "source": [
    "## 1.2 Reweighing Method"
   ]
  },
  {
   "cell_type": "code",
   "execution_count": 3,
   "id": "af0268d1-547f-41cb-b0b6-5ee1b2ab1c95",
   "metadata": {
    "tags": []
   },
   "outputs": [],
   "source": [
    "def calc_weights(df, sens_features_name, outcome_name):\n",
    "    ''' Calculate sample weights according to calculationg given in \n",
    "           F. Kamiran and T. Calders,  \"Data Preprocessing Techniques for\n",
    "           Classification without Discrimination,\" Knowledge and Information\n",
    "           Systems, 2012.\n",
    "    ''' \n",
    "    \n",
    "    # combination of label and groups (outputs a table)\n",
    "    sens_features = df[sens_features_name]\n",
    "    outcome = df[outcome_name]\n",
    "    tab = pd.DataFrame(pd.crosstab(index=sens_features, columns=outcome))\n",
    "\n",
    "    # reweighing weights\n",
    "    w = makehash()\n",
    "    n = len(df)\n",
    "    for r in tab.index:\n",
    "        key1 = str(r)\n",
    "        row_sum = tab.loc[r].sum(axis=0)\n",
    "        for c in tab.columns:\n",
    "            key2 = str(c)\n",
    "            col_sum = tab[c].sum()\n",
    "            if tab.loc[r,c] == 0:\n",
    "                n_combo = 1\n",
    "            else:\n",
    "                n_combo = tab.loc[r,c]\n",
    "            val = (row_sum*col_sum)/(n*n_combo)\n",
    "            w[key1][key2] = val\n",
    "    \n",
    "    # Instance weights\n",
    "    instance_weights = []\n",
    "    for index, row in df.iterrows():\n",
    "        race = row[sens_features_name]\n",
    "        out = row[outcome_name]\n",
    "        instance_weights.append(w[race][str(out)])\n",
    "\n",
    "    return instance_weights"
   ]
  },
  {
   "cell_type": "code",
   "execution_count": 4,
   "id": "00cd2dbf-90a8-41c1-9d3c-9be1005f0827",
   "metadata": {
    "tags": []
   },
   "outputs": [],
   "source": [
    "def display_performance(X_train, y_train, X_test, y_test, model):\n",
    "    # Train performance\n",
    "    y_train_pred = model.predict(X_train)\n",
    "    print(\"Train Accuracy:\", np.round(accuracy_score(y_train, y_train_pred),5))\n",
    "    print(\"Train Balanced Acc:\",np.round(sklearn.metrics.balanced_accuracy_score(y_train, y_train_pred),5))\n",
    "    cm = confusion_matrix(y_train, y_train_pred)\n",
    "    print(\"Train Confusion Matrix:\")\n",
    "    print(cm)\n",
    "    ConfusionMatrixDisplay(confusion_matrix=cm).plot(cmap=plt.cm.Greens);\n",
    "\n",
    "    print(\"\")\n",
    "\n",
    "    # Test performance\n",
    "    y_pred = model.predict(X_test)\n",
    "    test_accuracy = accuracy_score(y_test, y_pred)\n",
    "    print(\"Test Accuracy:\", np.round(test_accuracy,5))\n",
    "    print(\"Test Balanced Acc:\",np.round(sklearn.metrics.balanced_accuracy_score(y_test, y_pred),5))\n",
    "    cm = confusion_matrix(y_test, y_pred)\n",
    "    print(\"Test Confusion Matrix:\")\n",
    "    print(cm)\n",
    "    ConfusionMatrixDisplay(confusion_matrix=cm).plot(cmap=plt.cm.Greens);"
   ]
  },
  {
   "cell_type": "code",
   "execution_count": 5,
   "id": "733e5255-003f-4148-9f69-9840a685a869",
   "metadata": {
    "tags": []
   },
   "outputs": [],
   "source": [
    "def optim_thresh(X_test, y_test, model):\n",
    "    # Find optimal threshold\n",
    "    step_factor = 0.05 \n",
    "    threshold_value = 0.05\n",
    "    roc_score=0\n",
    "    predicted_proba = model.predict_proba(X_test) #probability of prediction\n",
    "    while threshold_value <=0.8: #continue to check best threshold upto probability 0.8\n",
    "        temp_thresh = threshold_value\n",
    "        predicted = (predicted_proba [:,1] >= temp_thresh).astype('int') #change the class boundary for prediction\n",
    "        if roc_score<roc_auc_score(y_test, predicted, multi_class='ovo'): #store the threshold for best classification\n",
    "            roc_score = roc_auc_score(y_test, predicted)\n",
    "            thrsh_score = threshold_value\n",
    "        threshold_value = threshold_value + step_factor\n",
    "    print('---Optimum Threshold ---',np.round(thrsh_score,5),'--ROC--',np.round(roc_score,5))\n",
    "\n",
    "    optim_thresh = thrsh_score\n",
    "    y_pred_optim = (predicted_proba [:,1] >= optim_thresh).astype('int')\n",
    "    print(\"Optimal Test Accuracy:\",np.round(accuracy_score(y_test, y_pred_optim),5))\n",
    "    print(\"Optimal Test Balanced Accuracy:\",np.round(balanced_accuracy_score(y_test, y_pred_optim),5))\n",
    "    print(\"Optimal Test AUC:\",np.round(sklearn.metrics.roc_auc_score(y_test, y_pred_optim, multi_class='ovo'),5))\n",
    "\n",
    "    # Create the confusion matrix\n",
    "    cm = confusion_matrix(y_test, y_pred_optim)\n",
    "    print(\"Test Confusion Matrix w/ Optimal Threshold:\")\n",
    "    print(cm)\n",
    "    ConfusionMatrixDisplay(confusion_matrix=cm).plot(cmap=plt.cm.Greens);\n",
    "    \n",
    "    return thrsh_score\n",
    "    "
   ]
  },
  {
   "cell_type": "markdown",
   "id": "7740d2e8-af9c-4f91-b08f-49e073dc00de",
   "metadata": {},
   "source": [
    "## 1.3. Data"
   ]
  },
  {
   "cell_type": "code",
   "execution_count": 6,
   "id": "e1d5158d-a1e7-44ee-bc96-83872a364881",
   "metadata": {
    "tags": []
   },
   "outputs": [],
   "source": [
    "all_data = pd.read_excel(\"Eynav cleaned data.xlsx\")"
   ]
  },
  {
   "cell_type": "code",
   "execution_count": 7,
   "id": "607ce40b-628e-42e4-95a2-82f49376b787",
   "metadata": {
    "tags": []
   },
   "outputs": [
    {
     "name": "stdout",
     "output_type": "stream",
     "text": [
      "(19790, 43)\n"
     ]
    }
   ],
   "source": [
    "print(all_data.shape)"
   ]
  },
  {
   "cell_type": "code",
   "execution_count": 8,
   "id": "e53910fe-0ef3-42c7-93c3-90c410ef18c4",
   "metadata": {
    "tags": []
   },
   "outputs": [
    {
     "name": "stdout",
     "output_type": "stream",
     "text": [
      "Index(['DELIVERY_TIME', 'MOM_PAT_ID', 'FINANCIAL_CLASS', 'PRIMARY_PAYOR_NAME',\n",
      "       'MARITAL_STATUS', 'ZIP', 'MOM_AGE', 'MOM_RACE', 'ETHNIC_GROUP',\n",
      "       'CHILD_BIRTH_WT', 'LBW', 'CHILD_GESTATION_AGE_NUMBER', 'PTB',\n",
      "       'DELIVERY_METHOD', 'NOTE_SW', 'NICU_ADMIT', 'MFCU_ADMIT', 'GRAVIDITY',\n",
      "       'PARITY', 'ABORTIONS', 'PREE', 'GDM', 'GHTN', 'MOM_BMI', 'MOM_LOS',\n",
      "       'CHILD_LOS', 'HISTORIC_DX_LIST', 'MED_PSYCH', 'MED_CARDIO', 'ANSWER11',\n",
      "       'PHQ9_VALUE', 'EPDSANSWER10', 'TOTAL_EPDS_VALUE',\n",
      "       'MENTAL_HEALTH_DX_CUTOFF', 'HIST_ANXIETY', 'HIST_DEPRESS',\n",
      "       'HIST_BIPOLAR', 'HIST_PMAD', 'EPDS_risk', 'EPDS_risk2', 'PHQ9_risk',\n",
      "       'PHQ9_risk2', 'PMAD_risk'],\n",
      "      dtype='object')\n"
     ]
    }
   ],
   "source": [
    "print(all_data.columns)"
   ]
  },
  {
   "cell_type": "markdown",
   "id": "9389191c-0572-464d-95ec-8a993d2d4f0d",
   "metadata": {},
   "source": [
    "This below chuck is only for reporting demographic information in manuscript:"
   ]
  },
  {
   "cell_type": "code",
   "execution_count": 9,
   "id": "bd1443fd-ae14-448b-a3c7-128e8120f12e",
   "metadata": {
    "tags": []
   },
   "outputs": [
    {
     "name": "stdout",
     "output_type": "stream",
     "text": [
      "Min Age: 14.0\n",
      "Max Age: 59.0\n",
      "Mean Age: 34.13058472308009\n",
      "SD Age: 4.861398430101049\n",
      "------------RACE/ETHNIC COUNTS------------\n",
      "ETHNIC_GROUP                                        Hispanic  Non-Hispanic  \\\n",
      "MOM_RACE                                                                     \n",
      "Asian or Native Hawaiian or Other Pacific Islander        21          2330   \n",
      "Black or African American                                 53          1346   \n",
      "Hispanic White                                          1842             0   \n",
      "Multiracial                                              140           420   \n",
      "Other                                                   1000          1113   \n",
      "Unknown                                                   33            40   \n",
      "White                                                      0         10855   \n",
      "\n",
      "ETHNIC_GROUP                                        Unknown  \n",
      "MOM_RACE                                                     \n",
      "Asian or Native Hawaiian or Other Pacific Islander       19  \n",
      "Black or African American                                 3  \n",
      "Hispanic White                                            0  \n",
      "Multiracial                                              46  \n",
      "Other                                                    33  \n",
      "Unknown                                                  48  \n",
      "White                                                    86  \n"
     ]
    }
   ],
   "source": [
    "demo = all_data[['MOM_AGE','MOM_RACE','ETHNIC_GROUP','ZIP','MARITAL_STATUS','FINANCIAL_CLASS',\n",
    "                 'LBW','PTB',\n",
    "                 'DELIVERY_METHOD','NICU_ADMIT','MFCU_ADMIT',\n",
    "                 'PREE','GDM','GHTN',\n",
    "                 'MOM_BMI','MOM_LOS','CHILD_LOS',\n",
    "                 'HIST_ANXIETY','HIST_DEPRESS','HIST_BIPOLAR','HIST_PMAD','MENTAL_HEALTH_DX_CUTOFF',\n",
    "                 'MED_PSYCH','MED_CARDIO','PMAD_risk']]\n",
    "demo = demo.dropna()            # keep only complete data (for now)\n",
    "demo = demo.sample(len(demo))   # randomly shuffle rows\n",
    "demo.shape\n",
    "\n",
    "print(\"Min Age:\",min(demo['MOM_AGE']))\n",
    "print(\"Max Age:\",max(demo['MOM_AGE']))\n",
    "print(\"Mean Age:\",np.mean(demo['MOM_AGE']))\n",
    "print(\"SD Age:\",np.std(demo['MOM_AGE']))\n",
    "\n",
    "print(\"------------RACE/ETHNIC COUNTS------------\")\n",
    "race = demo['MOM_RACE']\n",
    "ethnic = demo['ETHNIC_GROUP']\n",
    "print(pd.DataFrame(pd.crosstab(index=race, columns=ethnic)))"
   ]
  },
  {
   "cell_type": "code",
   "execution_count": 10,
   "id": "1dfc35f3-2931-45f6-8499-b05de46d7434",
   "metadata": {
    "tags": []
   },
   "outputs": [
    {
     "name": "stdout",
     "output_type": "stream",
     "text": [
      "(19428, 25)\n"
     ]
    }
   ],
   "source": [
    "print(demo.shape)"
   ]
  },
  {
   "cell_type": "markdown",
   "id": "2494bda8-7fdf-4c2d-b9c8-451dfbb09346",
   "metadata": {},
   "source": [
    "Extract relevant variables for model fitting:"
   ]
  },
  {
   "cell_type": "code",
   "execution_count": 11,
   "id": "5c280642-2dc3-4604-8a08-5593f4ea733a",
   "metadata": {
    "tags": []
   },
   "outputs": [],
   "source": [
    "outcome = 'PHQ9_risk2'\n",
    "\n",
    "data = all_data[['MOM_AGE','MOM_RACE','ETHNIC_GROUP','ZIP','MARITAL_STATUS','FINANCIAL_CLASS',\n",
    "                 'LBW','PTB',\n",
    "                 'DELIVERY_METHOD','NICU_ADMIT','MFCU_ADMIT',\n",
    "                 'PREE','GDM','GHTN',\n",
    "                 'MOM_BMI','MOM_LOS','CHILD_LOS',\n",
    "                 'HIST_ANXIETY','HIST_DEPRESS','HIST_BIPOLAR','HIST_PMAD','MENTAL_HEALTH_DX_CUTOFF',\n",
    "                 'MED_PSYCH','MED_CARDIO',\n",
    "                 outcome,'PHQ9_VALUE']]"
   ]
  },
  {
   "cell_type": "markdown",
   "id": "d5ddfc81-a213-4077-a476-a9133b941b89",
   "metadata": {},
   "source": [
    "## 1.3.3. Curate Data"
   ]
  },
  {
   "cell_type": "code",
   "execution_count": 12,
   "id": "beb2829b-4b79-4540-9de3-963432722234",
   "metadata": {
    "tags": []
   },
   "outputs": [
    {
     "data": {
      "text/plain": [
       "(11375, 26)"
      ]
     },
     "execution_count": 12,
     "metadata": {},
     "output_type": "execute_result"
    }
   ],
   "source": [
    "data = data.dropna()            # keep only complete data (for now)\n",
    "data = data.sample(len(data))   # randomly shuffle rows\n",
    "data.shape"
   ]
  },
  {
   "cell_type": "code",
   "execution_count": 13,
   "id": "ee0d018f-afc1-4664-bed8-9fca41eee492",
   "metadata": {
    "tags": []
   },
   "outputs": [],
   "source": [
    "scale_data = data[['MOM_RACE','ETHNIC_GROUP','PHQ9_VALUE','PHQ9_risk2']]"
   ]
  },
  {
   "cell_type": "code",
   "execution_count": 14,
   "id": "430ebd14-5746-4562-b856-90c9f2982b83",
   "metadata": {
    "tags": []
   },
   "outputs": [
    {
     "data": {
      "image/png": "[encoded data removed]",
      "text/plain": [
       "<Figure size 900x900 with 7 Axes>"
      ]
     },
     "metadata": {},
     "output_type": "display_data"
    }
   ],
   "source": [
    "scale_data2 = scale_data[scale_data.PHQ9_risk2==1]\n",
    "\n",
    "# create a grid \n",
    "g = sns.FacetGrid(scale_data2, col='MOM_RACE', hue='MOM_RACE', col_wrap=3)\n",
    "\n",
    "# draw density plots\n",
    "g = g.map(sns.kdeplot,\"PHQ9_VALUE\", cut=0, fill=True, common_norm=False, alpha=1, legend=False)\n",
    "\n",
    "# control the title of each facet\n",
    "g = g.set_titles(\"{col_name}\")\n",
    "\n",
    "# show the graph\n",
    "#plt.show()\n",
    "\n",
    "plt.savefig('Figure 1.png',dpi=600)"
   ]
  },
  {
   "cell_type": "code",
   "execution_count": 15,
   "id": "000904b0-e29e-4f9a-84e1-cf945a5c99d8",
   "metadata": {
    "tags": []
   },
   "outputs": [],
   "source": [
    "data = data.drop(['PHQ9_VALUE'], axis=1)"
   ]
  },
  {
   "cell_type": "code",
   "execution_count": 16,
   "id": "ec555ea8-fc33-4e73-b6d6-fb4cdfbef1d4",
   "metadata": {
    "tags": []
   },
   "outputs": [
    {
     "name": "stdout",
     "output_type": "stream",
     "text": [
      "------------MEDIAN AGE------------\n",
      "ETHNIC_GROUP                                        Hispanic  Non-Hispanic  \\\n",
      "MOM_RACE                                                                     \n",
      "Asian or Native Hawaiian or Other Pacific Islander      33.0          35.0   \n",
      "Black or African American                               34.0          33.0   \n",
      "Hispanic White                                          33.0           NaN   \n",
      "Multiracial                                             34.0          35.0   \n",
      "Other                                                   32.0          34.0   \n",
      "Unknown                                                 35.0          32.5   \n",
      "White                                                    NaN          34.0   \n",
      "\n",
      "ETHNIC_GROUP                                        Unknown  \n",
      "MOM_RACE                                                     \n",
      "Asian or Native Hawaiian or Other Pacific Islander     31.5  \n",
      "Black or African American                              34.5  \n",
      "Hispanic White                                          NaN  \n",
      "Multiracial                                            36.0  \n",
      "Other                                                  36.0  \n",
      "Unknown                                                35.0  \n",
      "White                                                  34.0  \n",
      "Overall median age: 34.0\n",
      "------------RACE/ETHNIC COUNTS------------\n",
      "ETHNIC_GROUP                                        Hispanic  Non-Hispanic  \\\n",
      "MOM_RACE                                                                     \n",
      "Asian or Native Hawaiian or Other Pacific Islander        12          1375   \n",
      "Black or African American                                 25           803   \n",
      "Hispanic White                                          1072             0   \n",
      "Multiracial                                               81           200   \n",
      "Other                                                    542           646   \n",
      "Unknown                                                   15            26   \n",
      "White                                                      0          6467   \n",
      "\n",
      "ETHNIC_GROUP                                        Unknown  \n",
      "MOM_RACE                                                     \n",
      "Asian or Native Hawaiian or Other Pacific Islander        8  \n",
      "Black or African American                                 2  \n",
      "Hispanic White                                            0  \n",
      "Multiracial                                              19  \n",
      "Other                                                    24  \n",
      "Unknown                                                  18  \n",
      "White                                                    40  \n",
      "------------RACE/ETHNIC PMAD------------\n",
      "PHQ9_risk2                                                            0.0  \\\n",
      "ETHNIC_GROUP MOM_RACE                                                       \n",
      "Hispanic     Asian or Native Hawaiian or Other Pacific Islander  0.916667   \n",
      "             Black or African American                           0.960000   \n",
      "             Hispanic White                                      0.935634   \n",
      "             Multiracial                                         0.938272   \n",
      "             Other                                               0.950185   \n",
      "             Unknown                                             0.933333   \n",
      "Non-Hispanic Asian or Native Hawaiian or Other Pacific Islander  0.956364   \n",
      "             Black or African American                           0.936488   \n",
      "             Multiracial                                         0.930000   \n",
      "             Other                                               0.967492   \n",
      "             Unknown                                             0.923077   \n",
      "             White                                               0.962889   \n",
      "Unknown      Asian or Native Hawaiian or Other Pacific Islander  1.000000   \n",
      "             Black or African American                           0.500000   \n",
      "             Multiracial                                         0.842105   \n",
      "             Other                                               0.958333   \n",
      "             Unknown                                             0.833333   \n",
      "             White                                               1.000000   \n",
      "\n",
      "PHQ9_risk2                                                            1.0  \n",
      "ETHNIC_GROUP MOM_RACE                                                      \n",
      "Hispanic     Asian or Native Hawaiian or Other Pacific Islander  0.083333  \n",
      "             Black or African American                           0.040000  \n",
      "             Hispanic White                                      0.064366  \n",
      "             Multiracial                                         0.061728  \n",
      "             Other                                               0.049815  \n",
      "             Unknown                                             0.066667  \n",
      "Non-Hispanic Asian or Native Hawaiian or Other Pacific Islander  0.043636  \n",
      "             Black or African American                           0.063512  \n",
      "             Multiracial                                         0.070000  \n",
      "             Other                                               0.032508  \n",
      "             Unknown                                             0.076923  \n",
      "             White                                               0.037111  \n",
      "Unknown      Asian or Native Hawaiian or Other Pacific Islander  0.000000  \n",
      "             Black or African American                           0.500000  \n",
      "             Multiracial                                         0.157895  \n",
      "             Other                                               0.041667  \n",
      "             Unknown                                             0.166667  \n",
      "             White                                               0.000000  \n",
      "Overall PMAD: 0.04395604395604396\n"
     ]
    }
   ],
   "source": [
    "race = data['MOM_RACE']\n",
    "ethnic = data['ETHNIC_GROUP']\n",
    "out = data[outcome]\n",
    "\n",
    "print(\"------------MEDIAN AGE------------\")\n",
    "print(pd.crosstab(index=race, columns=ethnic, values=data['MOM_AGE'], aggfunc=np.median))\n",
    "print(\"Overall median age:\",np.median(data[['MOM_AGE']]))\n",
    "\n",
    "print(\"------------RACE/ETHNIC COUNTS------------\")\n",
    "print(pd.DataFrame(pd.crosstab(index=race, columns=ethnic)))\n",
    "\n",
    "print(\"------------RACE/ETHNIC PMAD------------\")\n",
    "print(pd.crosstab(index=[ethnic,race], columns=out, normalize='index'))\n",
    "\n",
    "print(\"Overall PMAD:\",np.mean(data[[outcome]]))"
   ]
  },
  {
   "cell_type": "code",
   "execution_count": 17,
   "id": "ff0ed39c-8fcc-4e4a-9815-3fadb112d65b",
   "metadata": {
    "tags": []
   },
   "outputs": [
    {
     "name": "stdout",
     "output_type": "stream",
     "text": [
      "10875 500\n"
     ]
    },
    {
     "data": {
      "text/plain": [
       "<BarContainer object of 2 artists>"
      ]
     },
     "execution_count": 17,
     "metadata": {},
     "output_type": "execute_result"
    },
    {
     "data": {
      "image/png": "[encoded data removed]",
      "text/plain": [
       "<Figure size 640x480 with 1 Axes>"
      ]
     },
     "metadata": {},
     "output_type": "display_data"
    }
   ],
   "source": [
    "# binary-class\n",
    "count0, count1 = data[outcome].value_counts()\n",
    "print(count0, count1)\n",
    "\n",
    "x = ['0','1']\n",
    "y = [count0, count1]\n",
    "plt.bar(x, y)"
   ]
  },
  {
   "cell_type": "code",
   "execution_count": 18,
   "id": "e8ae4e6a-4a24-469c-82d6-1b78cdfdf199",
   "metadata": {
    "tags": []
   },
   "outputs": [
    {
     "name": "stdout",
     "output_type": "stream",
     "text": [
      "N: (11375, 25)\n"
     ]
    }
   ],
   "source": [
    "print(\"N:\",data.shape)"
   ]
  },
  {
   "cell_type": "markdown",
   "id": "bb70876a-2439-4feb-9eb7-80b3b5c42705",
   "metadata": {},
   "source": [
    "## 1.3.4. Weight Data"
   ]
  },
  {
   "cell_type": "code",
   "execution_count": 19,
   "id": "6c9edb6a-ac6a-4fce-a630-3aa184c70f1e",
   "metadata": {
    "tags": []
   },
   "outputs": [],
   "source": [
    "data['w'] = calc_weights(df=data, sens_features_name=\"MOM_RACE\", outcome_name=outcome)"
   ]
  },
  {
   "cell_type": "code",
   "execution_count": 20,
   "id": "5fa1c247-a3ed-4aae-a605-1157ff4dccf7",
   "metadata": {
    "tags": []
   },
   "outputs": [
    {
     "data": {
      "text/html": [
       "<div>\n",
       "<style scoped>\n",
       "    .dataframe tbody tr th:only-of-type {\n",
       "        vertical-align: middle;\n",
       "    }\n",
       "\n",
       "    .dataframe tbody tr th {\n",
       "        vertical-align: top;\n",
       "    }\n",
       "\n",
       "    .dataframe thead th {\n",
       "        text-align: right;\n",
       "    }\n",
       "</style>\n",
       "<table border=\"1\" class=\"dataframe\">\n",
       "  <thead>\n",
       "    <tr style=\"text-align: right;\">\n",
       "      <th></th>\n",
       "      <th>w</th>\n",
       "      <th>PHQ9_risk2</th>\n",
       "      <th>MOM_RACE</th>\n",
       "    </tr>\n",
       "  </thead>\n",
       "  <tbody>\n",
       "    <tr>\n",
       "      <th>896</th>\n",
       "      <td>0.999761</td>\n",
       "      <td>0.0</td>\n",
       "      <td>Asian or Native Hawaiian or Other Pacific Isla...</td>\n",
       "    </tr>\n",
       "    <tr>\n",
       "      <th>12574</th>\n",
       "      <td>0.992656</td>\n",
       "      <td>0.0</td>\n",
       "      <td>White</td>\n",
       "    </tr>\n",
       "    <tr>\n",
       "      <th>19011</th>\n",
       "      <td>1.191758</td>\n",
       "      <td>1.0</td>\n",
       "      <td>White</td>\n",
       "    </tr>\n",
       "    <tr>\n",
       "      <th>13707</th>\n",
       "      <td>1.031702</td>\n",
       "      <td>0.0</td>\n",
       "      <td>Multiracial</td>\n",
       "    </tr>\n",
       "    <tr>\n",
       "      <th>10187</th>\n",
       "      <td>0.996324</td>\n",
       "      <td>0.0</td>\n",
       "      <td>Other</td>\n",
       "    </tr>\n",
       "    <tr>\n",
       "      <th>9877</th>\n",
       "      <td>1.021257</td>\n",
       "      <td>0.0</td>\n",
       "      <td>Black or African American</td>\n",
       "    </tr>\n",
       "    <tr>\n",
       "      <th>19599</th>\n",
       "      <td>0.682911</td>\n",
       "      <td>1.0</td>\n",
       "      <td>Hispanic White</td>\n",
       "    </tr>\n",
       "    <tr>\n",
       "      <th>2184</th>\n",
       "      <td>1.021814</td>\n",
       "      <td>0.0</td>\n",
       "      <td>Hispanic White</td>\n",
       "    </tr>\n",
       "    <tr>\n",
       "      <th>10711</th>\n",
       "      <td>0.688368</td>\n",
       "      <td>1.0</td>\n",
       "      <td>Black or African American</td>\n",
       "    </tr>\n",
       "    <tr>\n",
       "      <th>8425</th>\n",
       "      <td>1.064275</td>\n",
       "      <td>0.0</td>\n",
       "      <td>Unknown</td>\n",
       "    </tr>\n",
       "    <tr>\n",
       "      <th>3652</th>\n",
       "      <td>0.432234</td>\n",
       "      <td>1.0</td>\n",
       "      <td>Unknown</td>\n",
       "    </tr>\n",
       "    <tr>\n",
       "      <th>12288</th>\n",
       "      <td>1.087239</td>\n",
       "      <td>1.0</td>\n",
       "      <td>Other</td>\n",
       "    </tr>\n",
       "    <tr>\n",
       "      <th>2409</th>\n",
       "      <td>1.005224</td>\n",
       "      <td>1.0</td>\n",
       "      <td>Asian or Native Hawaiian or Other Pacific Isla...</td>\n",
       "    </tr>\n",
       "    <tr>\n",
       "      <th>824</th>\n",
       "      <td>0.599401</td>\n",
       "      <td>1.0</td>\n",
       "      <td>Multiracial</td>\n",
       "    </tr>\n",
       "  </tbody>\n",
       "</table>\n",
       "</div>"
      ],
      "text/plain": [
       "              w  PHQ9_risk2                                           MOM_RACE\n",
       "896    0.999761         0.0  Asian or Native Hawaiian or Other Pacific Isla...\n",
       "12574  0.992656         0.0                                              White\n",
       "19011  1.191758         1.0                                              White\n",
       "13707  1.031702         0.0                                        Multiracial\n",
       "10187  0.996324         0.0                                              Other\n",
       "9877   1.021257         0.0                          Black or African American\n",
       "19599  0.682911         1.0                                     Hispanic White\n",
       "2184   1.021814         0.0                                     Hispanic White\n",
       "10711  0.688368         1.0                          Black or African American\n",
       "8425   1.064275         0.0                                            Unknown\n",
       "3652   0.432234         1.0                                            Unknown\n",
       "12288  1.087239         1.0                                              Other\n",
       "2409   1.005224         1.0  Asian or Native Hawaiian or Other Pacific Isla...\n",
       "824    0.599401         1.0                                        Multiracial"
      ]
     },
     "execution_count": 20,
     "metadata": {},
     "output_type": "execute_result"
    }
   ],
   "source": [
    "data[['w',outcome,'MOM_RACE']].drop_duplicates()"
   ]
  },
  {
   "cell_type": "markdown",
   "id": "3ef39be7-18ca-4472-8d60-94e27e1bf103",
   "metadata": {},
   "source": [
    "## 1.3.5. Get Dummies and Split"
   ]
  },
  {
   "cell_type": "code",
   "execution_count": 21,
   "id": "a59f1b66-2d4d-4946-beb2-84c5cf66cd51",
   "metadata": {
    "tags": []
   },
   "outputs": [],
   "source": [
    "# get dummy variables\n",
    "data = pd.get_dummies(data)"
   ]
  },
  {
   "cell_type": "markdown",
   "id": "4c295f69-bf12-45c5-a695-9f82d7d7e68f",
   "metadata": {},
   "source": [
    "Split data. Can specify whether to use stratify sampling or not."
   ]
  },
  {
   "cell_type": "code",
   "execution_count": 22,
   "id": "ac1776d1-d791-442e-8088-df078e882ced",
   "metadata": {
    "tags": []
   },
   "outputs": [],
   "source": [
    "# split into X and y\n",
    "X = data.drop([outcome], axis=1)\n",
    "y = data[[outcome]]\n",
    "\n",
    "race = data[['MOM_RACE_Asian or Native Hawaiian or Other Pacific Islander',\n",
    "             'MOM_RACE_Black or African American',\n",
    "             'MOM_RACE_Multiracial',\n",
    "             'MOM_RACE_Other',\n",
    "             'MOM_RACE_Unknown',\n",
    "             'MOM_RACE_White',\n",
    "             'MOM_RACE_Hispanic White']]\n",
    "strat_df = pd.concat([y,race],axis=1)\n",
    "\n",
    "# Split the data into training and test sets\n",
    "X_train, X_test, y_train, y_test = train_test_split(X, y, train_size=0.85, test_size=0.15, shuffle=True, stratify=strat_df, random_state=0)\n",
    "X_test = X_test.drop(['w'], axis=1)\n",
    "\n",
    "# Sensitive features\n",
    "race_feature = X_test[['MOM_RACE_Asian or Native Hawaiian or Other Pacific Islander',\n",
    "                       'MOM_RACE_Black or African American',\n",
    "                       'MOM_RACE_Multiracial',\n",
    "                       'MOM_RACE_Other',\n",
    "                       'MOM_RACE_Unknown',\n",
    "                       'MOM_RACE_White',\n",
    "                       'MOM_RACE_Hispanic White']]"
   ]
  },
  {
   "cell_type": "code",
   "execution_count": 23,
   "id": "74342e39-7fdf-40c0-b13e-47b4f54cc4bc",
   "metadata": {
    "tags": []
   },
   "outputs": [
    {
     "name": "stdout",
     "output_type": "stream",
     "text": [
      "9242 426\n",
      "1633 74\n"
     ]
    }
   ],
   "source": [
    "# binary-class\n",
    "count0_train, count1_train = y_train.value_counts()\n",
    "print(count0_train, count1_train)\n",
    "\n",
    "count0_test, count1_test = y_test.value_counts()\n",
    "print(count0_test, count1_test)"
   ]
  },
  {
   "cell_type": "markdown",
   "id": "5c8279fc-a583-4003-8370-3156c6b3e51b",
   "metadata": {},
   "source": [
    "# 2. Handle imbalanced data"
   ]
  },
  {
   "cell_type": "markdown",
   "id": "ffcdb97c-9131-4b4e-9a9a-e1682a12f6fd",
   "metadata": {},
   "source": [
    "## 2.1. Simple Over Sampling Minority (PMAD)"
   ]
  },
  {
   "cell_type": "code",
   "execution_count": 24,
   "id": "087ff68c-19b5-4347-b37d-3d188d7880d8",
   "metadata": {
    "tags": []
   },
   "outputs": [
    {
     "data": {
      "text/plain": [
       "PHQ9_risk2\n",
       "0.0           9242\n",
       "1.0           9242\n",
       "Name: count, dtype: int64"
      ]
     },
     "execution_count": 24,
     "metadata": {},
     "output_type": "execute_result"
    }
   ],
   "source": [
    "ros = RandomOverSampler(sampling_strategy = \"auto\",random_state=0)\n",
    "X_train_ros, y_train_ros = ros.fit_resample(X_train, y_train)\n",
    "weights_ros = X_train_ros['w']\n",
    "X_train_ros = X_train_ros.drop(['w'], axis=1)\n",
    "y_train_ros.value_counts()"
   ]
  },
  {
   "cell_type": "markdown",
   "id": "fdf9eeca-143a-43ef-8267-f856033ef710",
   "metadata": {},
   "source": [
    "## 2.2. Simple Under Sampling Majority (PMAD)"
   ]
  },
  {
   "cell_type": "code",
   "execution_count": 25,
   "id": "18ec6feb-0165-4b67-bc17-ce847624fc26",
   "metadata": {
    "tags": []
   },
   "outputs": [
    {
     "data": {
      "text/plain": [
       "PHQ9_risk2\n",
       "0.0           426\n",
       "1.0           426\n",
       "Name: count, dtype: int64"
      ]
     },
     "execution_count": 25,
     "metadata": {},
     "output_type": "execute_result"
    }
   ],
   "source": [
    "rus = RandomUnderSampler(sampling_strategy = \"auto\", random_state=0)\n",
    "X_train_rus, y_train_rus = rus.fit_resample(X_train, y_train)\n",
    "weights_rus = X_train_rus['w']\n",
    "X_train_rus = X_train_rus.drop(['w'], axis=1)\n",
    "y_train_rus.value_counts()"
   ]
  },
  {
   "cell_type": "markdown",
   "id": "8b7b0d9a-4526-450f-b818-801ee4c46dd3",
   "metadata": {},
   "source": [
    "# 3. Modeling"
   ]
  },
  {
   "cell_type": "code",
   "execution_count": 26,
   "id": "0436c426-f293-4bc8-9fae-889ec3613e65",
   "metadata": {
    "tags": []
   },
   "outputs": [],
   "source": [
    "# Extract weights and drop from training and test data frames\n",
    "weights = X_train['w']\n",
    "X_train = X_train.drop(['w'], axis=1)"
   ]
  },
  {
   "cell_type": "code",
   "execution_count": 27,
   "id": "fac9c47f-2b83-48f2-ba50-df573f21a4fb",
   "metadata": {
    "tags": []
   },
   "outputs": [],
   "source": [
    "# Base group is non-Hispanic White\n",
    "races = ['MOM_RACE_Asian or Native Hawaiian or Other Pacific Islander',\n",
    "         'MOM_RACE_Black or African American',\n",
    "         'MOM_RACE_Hispanic White',\n",
    "         'MOM_RACE_Multiracial',\n",
    "         'MOM_RACE_Other',\n",
    "         'MOM_RACE_Unknown']\n",
    "\n",
    "reweigh_results = []\n",
    "no_reweigh_results = []"
   ]
  },
  {
   "cell_type": "markdown",
   "id": "bd54706e-b6e2-4c46-adc5-84a94eb2a1a6",
   "metadata": {},
   "source": [
    "## XG Boost Classifier"
   ]
  },
  {
   "cell_type": "markdown",
   "id": "bcab2af6-5d71-4ca2-929a-3f740c5ef5a8",
   "metadata": {},
   "source": [
    "https://www.kaggle.com/code/stuarthallows/using-xgboost-with-scikit-learn"
   ]
  },
  {
   "cell_type": "markdown",
   "id": "865b3363-29ce-458e-87f2-5fb17f99123b",
   "metadata": {},
   "source": [
    "### Finetune XG Boost Classifier Through Randomized Search CV without Reweighing"
   ]
  },
  {
   "cell_type": "code",
   "execution_count": null,
   "id": "b308cbc3-7dce-4a92-a329-b9441edd64a2",
   "metadata": {
    "tags": []
   },
   "outputs": [],
   "source": [
    "x = X_train_rus\n",
    "y = y_train_rus.values.ravel()\n",
    "\n",
    "############################# Replace with TPOT hyper-parameter tuning #############################\n",
    "xgb_model = xgb.XGBClassifier(objective=\"binary:logistic\", random_state=0)\n",
    "\n",
    "params = {\"colsample_bytree\": [0.3, 0.4, 0.5, 0.6, 0.7],\n",
    "          \"gamma\": [0, 0.1, 0.2, 0.3, 0.4, 0.5],\n",
    "          \"learning_rate\": [0.01, 0.05, 0.1, 0.2,  0.3], # default 0.1\n",
    "          \"n_estimators\": list(range(100,150+1)), # 100 to 150\n",
    "          \"subsample\": [0.4,0.5,0.6],\n",
    "          \"alpha\":[0,5,10,25,50,75,100],\n",
    "          #\"lambda\": [0,5,10,25,50,75,100]\n",
    "          \"lambda\": list(range(0,100+1)), # 0 to 100\n",
    "          }\n",
    "\n",
    "rkf = RepeatedStratifiedKFold(n_splits=5, n_repeats=5, random_state=0)\n",
    "rand_search1 = RandomizedSearchCV(xgb_model, \n",
    "                                 param_distributions=params, \n",
    "                                 random_state=0, \n",
    "                                 n_iter=10, \n",
    "                                 cv=rkf, \n",
    "                                 verbose=1, \n",
    "                                 n_jobs=1, \n",
    "                                 return_train_score=True,\n",
    "                                 scoring = ['balanced_accuracy','f1','roc_auc'],\n",
    "                                 refit = 'roc_auc')\n",
    "seed(0)\n",
    "rand_search1.fit(x, y)\n",
    "\n",
    "best_xgb = rand_search1.best_estimator_\n",
    "print('Ensemble best hyperparameters:',  rand_search1.best_params_)\n",
    "####################################################################################################\n",
    "\n",
    "optim_threshold = optim_thresh(X_test=X_test, y_test=y_test, model=best_xgb)\n",
    "y_pred_optim = pd.DataFrame((best_xgb.predict_proba(X_test)[:,1] >= optim_threshold).astype('int'),columns=['y_pred'])\n",
    "test_set = pd.concat([pd.DataFrame(y_pred_optim),y_test.reset_index(drop=True),X_test.reset_index(drop=True)],axis=1)\n",
    "\n",
    "# Demographic parity\n",
    "p_white = np.mean(test_set['y_pred'][test_set['MOM_RACE_White']==1])\n",
    "\n",
    "# TP and FN\n",
    "pos_lab_set_white = test_set[(test_set[outcome]==1) & (test_set['MOM_RACE_White']==1)]\n",
    "pos_lab_set_white['fn'] = np.where(pos_lab_set_white['y_pred']==0,1,0)\n",
    "fn_white = np.mean(pos_lab_set_white['fn'])\n",
    "pos_lab_set_white['tp'] = np.where(pos_lab_set_white['y_pred']==1,1,0)\n",
    "tp_white = np.mean(pos_lab_set_white['tp'])\n",
    "\n",
    "for r in races:\n",
    "    pos_lab = test_set[(test_set[outcome]==1) & (test_set[r]==1)]\n",
    "    pos_lab['fn'] = np.where(pos_lab['y_pred']==0,1,0)\n",
    "    pos_lab['tp'] = np.where(pos_lab['y_pred']==1,1,0)\n",
    "    no_reweigh_results.append({'Model':'XGB',\n",
    "                               'Race': r,\n",
    "                               'DI':np.mean(test_set['y_pred'][test_set[r]==1])-p_white,\n",
    "                               'FN':np.mean(pos_lab['fn'])-fn_white,\n",
    "                               'TP':np.mean(pos_lab['tp'])-tp_white})"
   ]
  },
  {
   "cell_type": "code",
   "execution_count": null,
   "id": "93f7064c-d970-4f54-ba83-e4688fa923fa",
   "metadata": {
    "tags": []
   },
   "outputs": [],
   "source": [
    "#Optimal Test Accuracy: 0.77329\n",
    "#Optimal Test Balanced Accuracy: 0.58478\n",
    "#Optimal Test AUC: 0.58478\n",
    "pd.DataFrame(no_reweigh_results)"
   ]
  },
  {
   "cell_type": "markdown",
   "id": "456163af-7dcd-4173-94a4-09acea9f4b8d",
   "metadata": {},
   "source": [
    "### Finetune XG Boost Classifier Through Randomized Search CV with Reweighing"
   ]
  },
  {
   "cell_type": "code",
   "execution_count": null,
   "id": "47e98efb",
   "metadata": {
    "tags": []
   },
   "outputs": [],
   "source": [
    "x = X_train_rus\n",
    "y = y_train_rus.values.ravel()\n",
    "w = weights_rus\n",
    "\n",
    "############################# Replace with TPOT hyper-parameter tuning #############################\n",
    "xgb_reweigh_model = xgb.XGBClassifier(objective=\"binary:logistic\", random_state=0)\n",
    "\n",
    "params = {\"colsample_bytree\": [0.3, 0.4, 0.5, 0.6, 0.7],\n",
    "          \"gamma\": [0, 0.1, 0.2, 0.3, 0.4, 0.5],\n",
    "          \"learning_rate\": [0.01, 0.05, 0.1, 0.2,  0.3], # default 0.1\n",
    "          \"n_estimators\": list(range(100,150+1)), # 100 to 150\n",
    "          \"subsample\": [0.4,0.5,0.6],\n",
    "          \"alpha\":[0,5,10,25,50,75,100],\n",
    "          #\"lambda\": [0,5,10,25,50,75,100]\n",
    "          \"lambda\": list(range(0,100+1)), # 0 to 100\n",
    "          }\n",
    "\n",
    "rkf = RepeatedStratifiedKFold(n_splits=5, n_repeats=5, random_state=0)\n",
    "rand_search2 = RandomizedSearchCV(xgb_reweigh_model, \n",
    "                                 param_distributions=params, \n",
    "                                 random_state=0, \n",
    "                                 n_iter=10, \n",
    "                                 cv=rkf, \n",
    "                                 verbose=1, \n",
    "                                 n_jobs=1, \n",
    "                                 return_train_score=True,\n",
    "                                 scoring = ['balanced_accuracy','f1','roc_auc'],\n",
    "                                 refit = 'roc_auc')\n",
    "rand_search2.fit(x, y,sample_weight=w)\n",
    "\n",
    "best_xgb_reweigh = rand_search2.best_estimator_\n",
    "print('Ensemble best hyperparameters:',  rand_search2.best_params_)\n",
    "####################################################################################################\n",
    "\n",
    "optim_threshold = optim_thresh(X_test=X_test, y_test=y_test, model=best_xgb_reweigh)\n",
    "y_pred_optim = pd.DataFrame((best_xgb_reweigh.predict_proba(X_test)[:,1] >= optim_threshold).astype('int'),columns=['y_pred'])\n",
    "test_set = pd.concat([pd.DataFrame(y_pred_optim),y_test.reset_index(drop=True),X_test.reset_index(drop=True)],axis=1)\n",
    "\n",
    "# Disprate impact\n",
    "p_white = np.mean(test_set['y_pred'][test_set['MOM_RACE_White']==1])\n",
    "\n",
    "# Equalized odds\n",
    "pos_lab_set_white = test_set[(test_set[outcome]==1) & (test_set['MOM_RACE_White']==1)]\n",
    "pos_lab_set_white['fn'] = np.where(pos_lab_set_white['y_pred']==0,1,0)\n",
    "fn_white = np.mean(pos_lab_set_white['fn'])\n",
    "pos_lab_set_white['tp'] = np.where(pos_lab_set_white['y_pred']==1,1,0)\n",
    "tp_white = np.mean(pos_lab_set_white['tp'])\n",
    "\n",
    "for r in races:\n",
    "    pos_lab = test_set[(test_set[outcome]==1) & (test_set[r]==1)]\n",
    "    pos_lab['fn'] = np.where(pos_lab['y_pred']==0,1,0)\n",
    "    pos_lab['tp'] = np.where(pos_lab['y_pred']==1,1,0)\n",
    "    reweigh_results.append({'Model':'XGB',\n",
    "                            'Race': r,\n",
    "                            'DI':np.mean(test_set['y_pred'][test_set[r]==1])-p_white,\n",
    "                            'FN':np.mean(pos_lab['fn'])-fn_white,\n",
    "                            'TP':np.mean(pos_lab['tp'])-tp_white})"
   ]
  },
  {
   "cell_type": "code",
   "execution_count": null,
   "id": "83357ed0-da77-44aa-9f60-eeb2486859d4",
   "metadata": {
    "tags": []
   },
   "outputs": [],
   "source": [
    "pd.DataFrame(reweigh_results)"
   ]
  },
  {
   "cell_type": "markdown",
   "id": "64fcecf6-efb5-44a5-9eca-21964f2d42d1",
   "metadata": {},
   "source": [
    "## Balanced Bagging Classifer"
   ]
  },
  {
   "cell_type": "markdown",
   "id": "dca9c203-ce99-49ce-9c41-9266efa3ebff",
   "metadata": {},
   "source": [
    "### Finetune Balanced Bagging Classifier Through Randomized Search CV with Base XGB"
   ]
  },
  {
   "cell_type": "code",
   "execution_count": null,
   "id": "70715aa8-edaf-46be-a9af-bd3900f28264",
   "metadata": {
    "tags": []
   },
   "outputs": [],
   "source": [
    "x = X_train\n",
    "y = y_train.values.ravel()\n",
    "\n",
    "############################# Replace with TPOT hyper-parameter tuning #############################\n",
    "bbc = BalancedBaggingClassifier(random_state=0, \n",
    "                                sampling_strategy='auto',\n",
    "                                base_estimator=best_xgb)\n",
    "\n",
    "parameter_space = {'max_features': [0.9,0.95,0.96,0.97,0.98,0.99,1.0],\n",
    "                   'n_estimators': list(range(5,15+1)) # 5 to 15\n",
    "                  }\n",
    "\n",
    "# Use random search to find the best hyperparameters\n",
    "rkf = RepeatedStratifiedKFold(n_splits=5, n_repeats=5, random_state=0)\n",
    "rand_search = RandomizedSearchCV(bbc, \n",
    "                                 param_distributions = parameter_space,\n",
    "                                 random_state=0,\n",
    "                                 n_iter=10, \n",
    "                                 cv=rkf,\n",
    "                                 verbose=1,\n",
    "                                 n_jobs=1, \n",
    "                                 return_train_score=True,\n",
    "                                 scoring = ['balanced_accuracy','f1','roc_auc'],\n",
    "                                 refit = 'roc_auc')\n",
    "\n",
    "# Fit the random search object to the data\n",
    "rand_search.fit(x, y)\n",
    "\n",
    "best_bbc = rand_search.best_estimator_\n",
    "print('Ensemble best hyperparameters:',  rand_search.best_params_)\n",
    "####################################################################################################\n",
    "\n",
    "optim_threshold = optim_thresh(X_test=X_test, y_test=y_test, model=best_bbc)\n",
    "y_pred_optim = pd.DataFrame((best_bbc.predict_proba(X_test)[:,1] >= optim_threshold).astype('int'),columns=['y_pred'])\n",
    "test_set = pd.concat([pd.DataFrame(y_pred_optim),y_test.reset_index(drop=True),X_test.reset_index(drop=True)],axis=1)\n",
    "\n",
    "# Disprate impact\n",
    "p_white = np.mean(test_set['y_pred'][test_set['MOM_RACE_White']==1])\n",
    "\n",
    "# Equalized odds\n",
    "pos_lab_set_white = test_set[(test_set[outcome]==1) & (test_set['MOM_RACE_White']==1)]\n",
    "pos_lab_set_white['fn'] = np.where(pos_lab_set_white['y_pred']==0,1,0)\n",
    "fn_white = np.mean(pos_lab_set_white['fn'])\n",
    "pos_lab_set_white['tp'] = np.where(pos_lab_set_white['y_pred']==1,1,0)\n",
    "tp_white = np.mean(pos_lab_set_white['tp'])\n",
    "\n",
    "for r in races:\n",
    "    pos_lab = test_set[(test_set[outcome]==1) & (test_set[r]==1)]\n",
    "    pos_lab['fn'] = np.where(pos_lab['y_pred']==0,1,0)\n",
    "    pos_lab['tp'] = np.where(pos_lab['y_pred']==1,1,0)\n",
    "    no_reweigh_results.append({'Model':'Bagging',\n",
    "                               'Race': r,\n",
    "                               'DI':np.mean(test_set['y_pred'][test_set[r]==1])-p_white,\n",
    "                               'FN':np.mean(pos_lab['fn'])-fn_white,\n",
    "                               'TP':np.mean(pos_lab['tp'])-tp_white})"
   ]
  },
  {
   "cell_type": "code",
   "execution_count": null,
   "id": "1e7283d1-c1cd-4259-8293-8c1da9acf3f7",
   "metadata": {
    "tags": []
   },
   "outputs": [],
   "source": [
    "pd.DataFrame(no_reweigh_results)"
   ]
  },
  {
   "cell_type": "markdown",
   "id": "2de8398c-a4d6-412b-be03-dc44e941ac64",
   "metadata": {},
   "source": [
    "### Finetune Balanced Bagging Classifier Through Randomized Search CV with Reweighed XGB"
   ]
  },
  {
   "cell_type": "code",
   "execution_count": null,
   "id": "4676cbd9-c98b-46d7-9bae-3d10247fa45b",
   "metadata": {
    "tags": []
   },
   "outputs": [],
   "source": [
    "x = X_train\n",
    "y = y_train.values.ravel()\n",
    "\n",
    "############################# Replace with TPOT hyper-parameter tuning #############################\n",
    "bbc = BalancedBaggingClassifier(random_state=0, \n",
    "                                sampling_strategy='auto',\n",
    "                                base_estimator=best_xgb_reweigh)\n",
    "\n",
    "parameter_space = {'max_features': [0.9,0.95,0.96,0.97,0.98,0.99,1.0],\n",
    "                   'n_estimators': list(range(5,15+1)) # 5 to 15\n",
    "                  }\n",
    "\n",
    "# Use random search to find the best hyperparameters\n",
    "rkf = RepeatedStratifiedKFold(n_splits=5, n_repeats=5, random_state=0)\n",
    "rand_search = RandomizedSearchCV(bbc, \n",
    "                                 param_distributions = parameter_space,\n",
    "                                 random_state=42,\n",
    "                                 n_iter=10, \n",
    "                                 cv=rkf,\n",
    "                                 verbose=1,\n",
    "                                 n_jobs=1, \n",
    "                                 return_train_score=True,\n",
    "                                 scoring = ['balanced_accuracy','f1','roc_auc'],\n",
    "                                 refit = 'roc_auc')\n",
    "\n",
    "# Fit the random search object to the data\n",
    "rand_search.fit(x, y)\n",
    "\n",
    "best_bbc_reweigh = rand_search.best_estimator_\n",
    "print('Ensemble best hyperparameters:',  rand_search.best_params_)\n",
    "####################################################################################################\n",
    "\n",
    "optim_threshold = optim_thresh(X_test=X_test, y_test=y_test, model=best_bbc_reweigh)\n",
    "y_pred_optim = pd.DataFrame((best_bbc_reweigh.predict_proba(X_test)[:,1] >= optim_threshold).astype('int'),columns=['y_pred'])\n",
    "test_set = pd.concat([pd.DataFrame(y_pred_optim),y_test.reset_index(drop=True),X_test.reset_index(drop=True)],axis=1)\n",
    "\n",
    "# Disprate impact\n",
    "p_white = np.mean(test_set['y_pred'][test_set['MOM_RACE_White']==1])\n",
    "\n",
    "# Equalized odds\n",
    "pos_lab_set_white = test_set[(test_set[outcome]==1) & (test_set['MOM_RACE_White']==1)]\n",
    "pos_lab_set_white['fn'] = np.where(pos_lab_set_white['y_pred']==0,1,0)\n",
    "fn_white = np.mean(pos_lab_set_white['fn'])\n",
    "pos_lab_set_white['tp'] = np.where(pos_lab_set_white['y_pred']==1,1,0)\n",
    "tp_white = np.mean(pos_lab_set_white['tp'])\n",
    "\n",
    "for r in races:\n",
    "    pos_lab = test_set[(test_set[outcome]==1) & (test_set[r]==1)]\n",
    "    pos_lab['fn'] = np.where(pos_lab['y_pred']==0,1,0)\n",
    "    pos_lab['tp'] = np.where(pos_lab['y_pred']==1,1,0)\n",
    "    reweigh_results.append({'Model':'Bagging',\n",
    "                            'Race': r,\n",
    "                            'DI':np.mean(test_set['y_pred'][test_set[r]==1])-p_white,\n",
    "                            'FN':np.mean(pos_lab['fn'])-fn_white,\n",
    "                            'TP':np.mean(pos_lab['tp'])-tp_white})"
   ]
  },
  {
   "cell_type": "code",
   "execution_count": null,
   "id": "a36b5870-2d97-4e4f-a61c-00afa9683d0f",
   "metadata": {
    "tags": []
   },
   "outputs": [],
   "source": [
    "pd.DataFrame(reweigh_results)"
   ]
  },
  {
   "cell_type": "markdown",
   "id": "0c9262e3-6446-4cf8-90af-c9ee919be957",
   "metadata": {},
   "source": [
    "## Logistic Regression"
   ]
  },
  {
   "cell_type": "code",
   "execution_count": null,
   "id": "43792419-8125-44f8-8c86-d4a5ec427267",
   "metadata": {
    "tags": []
   },
   "outputs": [],
   "source": [
    "x = X_train_rus\n",
    "y = y_train_rus.values.ravel()\n",
    "w = weights_rus\n",
    "\n",
    "############################# Replace with TPOT hyper-parameter tuning #############################\n",
    "glm = LogisticRegression(max_iter=1000, solver='liblinear')\n",
    "\n",
    "seed(0)\n",
    "parameter_space = {'class_weight': [{0:.1, 1:.9},{0:.2, 1:.8},{0:.3, 1:.7},{0:.4, 1:.6},{0:.5, 1:.5},{0:.6, 1:.4},{0:.7, 1:.3},{0:.8, 1:.2},{0:.9, 1:.1}]}\n",
    "\n",
    "# Use random search to find the best hyperparameters\n",
    "rkf = RepeatedStratifiedKFold(n_splits=5, n_repeats=5, random_state=0)\n",
    "rand_search = RandomizedSearchCV(glm, \n",
    "                                 param_distributions = parameter_space, \n",
    "                                 random_state=0,\n",
    "                                 n_iter=10, \n",
    "                                 cv=rkf,\n",
    "                                 verbose=1,\n",
    "                                 scoring = ['balanced_accuracy','f1','roc_auc'],\n",
    "                                 refit = 'roc_auc')"
   ]
  },
  {
   "cell_type": "markdown",
   "id": "e0a0b7c2-6926-4330-b895-120fc216bc6e",
   "metadata": {},
   "source": [
    "### Finetune Logistic Regression Through Randomized Search CV without Reweighing"
   ]
  },
  {
   "cell_type": "code",
   "execution_count": null,
   "id": "4537e50f",
   "metadata": {
    "tags": []
   },
   "outputs": [],
   "source": [
    "# Fit the random search object to the data\n",
    "rand_search.fit(x, y)\n",
    "\n",
    "best_glm = rand_search.best_estimator_\n",
    "print('Logistic best hyperparameters:',  rand_search.best_params_)\n",
    "####################################################################################################\n",
    "\n",
    "optim_threshold = optim_thresh(X_test=X_test, y_test=y_test, model=best_glm)\n",
    "y_pred_optim = pd.DataFrame((best_glm.predict_proba(X_test)[:,1] >= optim_threshold).astype('int'),columns=['y_pred'])\n",
    "test_set = pd.concat([pd.DataFrame(y_pred_optim),y_test.reset_index(drop=True),X_test.reset_index(drop=True)],axis=1)\n",
    "\n",
    "# Disprate impact\n",
    "p_white = np.mean(test_set['y_pred'][test_set['MOM_RACE_White']==1])\n",
    "\n",
    "# Equalized odds\n",
    "pos_lab_set_white = test_set[(test_set[outcome]==1) & (test_set['MOM_RACE_White']==1)]\n",
    "pos_lab_set_white['fn'] = np.where(pos_lab_set_white['y_pred']==0,1,0)\n",
    "fn_white = np.mean(pos_lab_set_white['fn'])\n",
    "pos_lab_set_white['tp'] = np.where(pos_lab_set_white['y_pred']==1,1,0)\n",
    "tp_white = np.mean(pos_lab_set_white['tp'])\n",
    "\n",
    "for r in races:\n",
    "    pos_lab = test_set[(test_set[outcome]==1) & (test_set[r]==1)]\n",
    "    pos_lab['fn'] = np.where(pos_lab['y_pred']==0,1,0)\n",
    "    pos_lab['tp'] = np.where(pos_lab['y_pred']==1,1,0)\n",
    "    no_reweigh_results.append({'Model':'Logistic',\n",
    "                               'Race': r,\n",
    "                               'DI':np.mean(test_set['y_pred'][test_set[r]==1])-p_white,\n",
    "                               'FN':np.mean(pos_lab['fn'])-fn_white,\n",
    "                               'TP':np.mean(pos_lab['tp'])-tp_white})"
   ]
  },
  {
   "cell_type": "code",
   "execution_count": null,
   "id": "91687aa6-a278-44e9-995a-3a7b77b239dd",
   "metadata": {
    "tags": []
   },
   "outputs": [],
   "source": [
    "pd.DataFrame(no_reweigh_results)"
   ]
  },
  {
   "cell_type": "markdown",
   "id": "ea48c536-83d6-4395-a153-363b8790dcf0",
   "metadata": {},
   "source": [
    "### Finetune Logistic Regression Through Randomized Search CV with Reweighing"
   ]
  },
  {
   "cell_type": "code",
   "execution_count": null,
   "id": "f05f23b6-9e9e-4acd-b3ea-fb8fc4046b1d",
   "metadata": {
    "tags": []
   },
   "outputs": [],
   "source": [
    "############################# Replace with TPOT hyper-parameter tuning #############################\n",
    "# Fit the random search object to the data\n",
    "rand_search.fit(x, y, sample_weight=w)\n",
    "\n",
    "best_glm = rand_search.best_estimator_\n",
    "print('Logistic best hyperparameters:',  rand_search.best_params_)\n",
    "####################################################################################################\n",
    "\n",
    "optim_threshold = optim_thresh(X_test=X_test, y_test=y_test, model=best_glm)\n",
    "y_pred_optim = pd.DataFrame((best_glm.predict_proba(X_test)[:,1] >= optim_threshold).astype('int'),columns=['y_pred'])\n",
    "test_set = pd.concat([pd.DataFrame(y_pred_optim),y_test.reset_index(drop=True),X_test.reset_index(drop=True)],axis=1)\n",
    "\n",
    "# Disprate impact\n",
    "p_white = np.mean(test_set['y_pred'][test_set['MOM_RACE_White']==1])\n",
    "\n",
    "# Equalized odds\n",
    "pos_lab_set_white = test_set[(test_set[outcome]==1) & (test_set['MOM_RACE_White']==1)]\n",
    "pos_lab_set_white['fn'] = np.where(pos_lab_set_white['y_pred']==0,1,0)\n",
    "fn_white = np.mean(pos_lab_set_white['fn'])\n",
    "pos_lab_set_white['tp'] = np.where(pos_lab_set_white['y_pred']==1,1,0)\n",
    "tp_white = np.mean(pos_lab_set_white['tp'])\n",
    "\n",
    "for r in races:\n",
    "    pos_lab = test_set[(test_set[outcome]==1) & (test_set[r]==1)]\n",
    "    pos_lab['fn'] = np.where(pos_lab['y_pred']==0,1,0)\n",
    "    pos_lab['tp'] = np.where(pos_lab['y_pred']==1,1,0)\n",
    "    reweigh_results.append({'Model':'Logistic',\n",
    "                            'Race': r,\n",
    "                            'DI':np.mean(test_set['y_pred'][test_set[r]==1])-p_white,\n",
    "                            'FN':np.mean(pos_lab['fn'])-fn_white,\n",
    "                            'TP':np.mean(pos_lab['tp'])-tp_white})"
   ]
  },
  {
   "cell_type": "code",
   "execution_count": null,
   "id": "7a2c832d-4938-41bb-8b38-a4c6a76c9c9a",
   "metadata": {
    "tags": []
   },
   "outputs": [],
   "source": [
    "pd.DataFrame(reweigh_results)"
   ]
  },
  {
   "cell_type": "markdown",
   "id": "05801c3f-dc88-4e80-b6c3-00dcce6cffa9",
   "metadata": {},
   "source": [
    "## Random Forest"
   ]
  },
  {
   "cell_type": "code",
   "execution_count": null,
   "id": "5fd539db-64de-4cb9-bb5f-dbeed6091a22",
   "metadata": {
    "tags": []
   },
   "outputs": [],
   "source": [
    "x = X_train_rus\n",
    "y = y_train_rus.values.ravel()\n",
    "w = weights_rus\n",
    "\n",
    "############################# Replace with TPOT hyper-parameter tuning #############################\n",
    "rf = RandomForestClassifier(max_features='sqrt',random_state=0)\n",
    "\n",
    "seed(1)\n",
    "parameter_space = {'min_samples_split':np.round(uniform(1,50,20),0).astype('int64'),\n",
    "                   'min_samples_leaf':np.round(uniform(1,50,20),0).astype('int64'),\n",
    "                   'n_estimators': np.round(uniform(50,500,20),0).astype('int64'),\n",
    "                   'max_depth': np.round(uniform(1,20,20),0).astype('int64')\n",
    "                  }\n",
    "\n",
    "# Use random search to find the best hyperparameters\n",
    "rkf = RepeatedStratifiedKFold(n_splits=5, n_repeats=5, random_state=0)\n",
    "rand_search = RandomizedSearchCV(rf, \n",
    "                                 param_distributions = parameter_space, \n",
    "                                 n_iter=10, \n",
    "                                 cv=rkf,\n",
    "                                 verbose=1,\n",
    "                                 random_state=0,\n",
    "                                 scoring = ['balanced_accuracy','f1','roc_auc'],\n",
    "                                 refit = 'roc_auc')"
   ]
  },
  {
   "cell_type": "markdown",
   "id": "8ece2000-9b22-4aa5-be54-30f5146c7d94",
   "metadata": {},
   "source": [
    "### Finetune Random Forest Through Randomized Search CV without Reweighing"
   ]
  },
  {
   "cell_type": "code",
   "execution_count": null,
   "id": "d0c1b873-e142-4eb2-b121-22b833fa4e01",
   "metadata": {
    "tags": []
   },
   "outputs": [],
   "source": [
    "############################# Replace with TPOT hyper-parameter tuning #############################\n",
    "# Fit the random search object to the data\n",
    "rand_search.fit(x, y)\n",
    "\n",
    "best_rf = rand_search.best_estimator_\n",
    "print('RF Best hyperparameters:',  rand_search.best_params_)\n",
    "####################################################################################################\n",
    "\n",
    "optim_threshold = optim_thresh(X_test=X_test, y_test=y_test, model=best_rf)\n",
    "y_pred_optim = pd.DataFrame((best_rf.predict_proba(X_test)[:,1] >= optim_threshold).astype('int'),columns=['y_pred'])\n",
    "test_set = pd.concat([pd.DataFrame(y_pred_optim),y_test.reset_index(drop=True),X_test.reset_index(drop=True)],axis=1)\n",
    "\n",
    "# Disprate impact\n",
    "p_white = np.mean(test_set['y_pred'][test_set['MOM_RACE_White']==1])\n",
    "\n",
    "# Equalized odds\n",
    "pos_lab_set_white = test_set[(test_set[outcome]==1) & (test_set['MOM_RACE_White']==1)]\n",
    "pos_lab_set_white['fn'] = np.where(pos_lab_set_white['y_pred']==0,1,0)\n",
    "fn_white = np.mean(pos_lab_set_white['fn'])\n",
    "pos_lab_set_white['tp'] = np.where(pos_lab_set_white['y_pred']==1,1,0)\n",
    "tp_white = np.mean(pos_lab_set_white['tp'])\n",
    "\n",
    "for r in races:\n",
    "    pos_lab = test_set[(test_set[outcome]==1) & (test_set[r]==1)]\n",
    "    pos_lab['fn'] = np.where(pos_lab['y_pred']==0,1,0)\n",
    "    pos_lab['tp'] = np.where(pos_lab['y_pred']==1,1,0)\n",
    "    no_reweigh_results.append({'Model':'RF',\n",
    "                               'Race': r,\n",
    "                               'DI':np.mean(test_set['y_pred'][test_set[r]==1])-p_white,\n",
    "                               'FN':np.mean(pos_lab['fn'])-fn_white,\n",
    "                               'TP':np.mean(pos_lab['tp'])-tp_white})"
   ]
  },
  {
   "cell_type": "code",
   "execution_count": null,
   "id": "c1827b0c-58af-4582-8b92-112cf6b5151b",
   "metadata": {
    "tags": []
   },
   "outputs": [],
   "source": [
    "pd.DataFrame(no_reweigh_results)"
   ]
  },
  {
   "cell_type": "markdown",
   "id": "632da262-e2de-44fa-8c05-9dd292f87f2f",
   "metadata": {},
   "source": [
    "### Finetune Random Forest Through Randomized Search CV with Reweighing"
   ]
  },
  {
   "cell_type": "code",
   "execution_count": null,
   "id": "e9e54b26-8ee9-4208-bf7e-1c534619841e",
   "metadata": {
    "tags": []
   },
   "outputs": [],
   "source": [
    "############################# Replace with TPOT hyper-parameter tuning #############################\n",
    "# Fit the random search object to the data\n",
    "rand_search.fit(x, y, sample_weight=w)\n",
    "\n",
    "best_rf = rand_search.best_estimator_\n",
    "print('RF Best hyperparameters:',  rand_search.best_params_)\n",
    "####################################################################################################\n",
    "\n",
    "optim_threshold = optim_thresh(X_test=X_test, y_test=y_test, model=best_rf)\n",
    "y_pred_optim = pd.DataFrame((best_rf.predict_proba(X_test)[:,1] >= optim_threshold).astype('int'),columns=['y_pred'])\n",
    "test_set = pd.concat([pd.DataFrame(y_pred_optim),y_test.reset_index(drop=True),X_test.reset_index(drop=True)],axis=1)\n",
    "\n",
    "# Disprate impact\n",
    "p_white = np.mean(test_set['y_pred'][test_set['MOM_RACE_White']==1])\n",
    "\n",
    "# Equalized odds\n",
    "pos_lab_set_white = test_set[(test_set[outcome]==1) & (test_set['MOM_RACE_White']==1)]\n",
    "pos_lab_set_white['fn'] = np.where(pos_lab_set_white['y_pred']==0,1,0)\n",
    "fn_white = np.mean(pos_lab_set_white['fn'])\n",
    "pos_lab_set_white['tp'] = np.where(pos_lab_set_white['y_pred']==1,1,0)\n",
    "tp_white = np.mean(pos_lab_set_white['tp'])\n",
    "\n",
    "for r in races:\n",
    "    pos_lab = test_set[(test_set[outcome]==1) & (test_set[r]==1)]\n",
    "    pos_lab['fn'] = np.where(pos_lab['y_pred']==0,1,0)\n",
    "    pos_lab['tp'] = np.where(pos_lab['y_pred']==1,1,0)\n",
    "    reweigh_results.append({'Model':'RF',\n",
    "                            'Race': r,\n",
    "                            'DI':np.mean(test_set['y_pred'][test_set[r]==1])-p_white,\n",
    "                            'FN':np.mean(pos_lab['fn'])-fn_white,\n",
    "                            'TP':np.mean(pos_lab['tp'])-tp_white})"
   ]
  },
  {
   "cell_type": "code",
   "execution_count": null,
   "id": "ec372021-43cc-4c9d-bfa3-886207a97fe4",
   "metadata": {
    "tags": []
   },
   "outputs": [],
   "source": [
    "pd.DataFrame(reweigh_results)"
   ]
  },
  {
   "cell_type": "markdown",
   "id": "30b7c10a-61c2-4f6e-8a9e-2063d4fac4f4",
   "metadata": {},
   "source": [
    "# Plotting"
   ]
  },
  {
   "cell_type": "code",
   "execution_count": null,
   "id": "6a0e6985-6c67-4700-9463-1d3cdd726a85",
   "metadata": {
    "tags": []
   },
   "outputs": [],
   "source": [
    "no_reweigh_results = pd.DataFrame(no_reweigh_results)\n",
    "reweigh_results = pd.DataFrame(reweigh_results)"
   ]
  },
  {
   "cell_type": "code",
   "execution_count": null,
   "id": "9b6ee247-bc67-40de-b5fa-f5210c0970e7",
   "metadata": {
    "tags": []
   },
   "outputs": [],
   "source": [
    "no_reweigh_results.to_excel(\"PHQ9_no_reweigh_results.xlsx\")\n",
    "reweigh_results.to_excel(\"PHQ9_reweigh_results.xlsx\")"
   ]
  },
  {
   "cell_type": "code",
   "execution_count": null,
   "id": "6fd732aa-7f8a-4490-b7ab-650c44013b84",
   "metadata": {
    "tags": []
   },
   "outputs": [],
   "source": [
    "no_reweigh_results = pd.read_excel(\"PHQ9_no_reweigh_results.xlsx\")\n",
    "reweigh_results = pd.read_excel(\"PHQ9_reweigh_results.xlsx\")"
   ]
  },
  {
   "cell_type": "code",
   "execution_count": null,
   "id": "5de865b0-21c1-407d-a3a3-6102e27480d4",
   "metadata": {
    "tags": []
   },
   "outputs": [],
   "source": [
    "no_reweigh_results['Race'] = no_reweigh_results['Race'].str[9:]\n",
    "reweigh_results['Race'] = reweigh_results['Race'].str[9:]"
   ]
  },
  {
   "cell_type": "code",
   "execution_count": null,
   "id": "081ec556-39f8-440b-88b5-2f92c25e58d7",
   "metadata": {
    "tags": []
   },
   "outputs": [],
   "source": [
    "no_reweigh_results['Race'] = no_reweigh_results['Race'].replace({'Asian or Native Hawaiian or Other Pacific Islander':'AAPI', \n",
    "                                                                 'Black or African American':'Black',\n",
    "                                                                 'Multiracial':'Multi',\n",
    "                                                                 'Hispanic White':'Hispanic'})\n",
    "reweigh_results['Race'] = reweigh_results['Race'].replace({'Asian or Native Hawaiian or Other Pacific Islander':'AAPI', \n",
    "                                                                 'Black or African American':'Black',\n",
    "                                                                 'Multiracial':'Multi',\n",
    "                                                                 'Hispanic White':'Hispanic'})"
   ]
  },
  {
   "cell_type": "markdown",
   "id": "9259db52-3a8c-4f1c-8d02-59db2b66eeb6",
   "metadata": {},
   "source": [
    "## No Reweighing"
   ]
  },
  {
   "cell_type": "code",
   "execution_count": null,
   "id": "c5b5d364-ae8d-4859-85ec-fc9f2de24cb4",
   "metadata": {
    "tags": []
   },
   "outputs": [],
   "source": [
    "sns.barplot(data=no_reweigh_results, x='Race', y='DI', hue='Model')\n",
    "plt.ylim((-0.8,0.8))\n",
    "plt.title('PHQ-9 Disparate Impact Before Reweighing')\n",
    "plt.savefig('No Reweigh DI.png',dpi=600)"
   ]
  },
  {
   "cell_type": "code",
   "execution_count": null,
   "id": "029d07cc-5cfe-4a96-b99a-ff21b040ad93",
   "metadata": {
    "tags": []
   },
   "outputs": [],
   "source": [
    "sns.barplot(data=no_reweigh_results, x='Race', y='FN', hue='Model')\n",
    "plt.ylim((-0.8,0.8))\n",
    "plt.title('PHQ-9 False Negatives Before Reweighing')\n",
    "plt.savefig('No Reweigh FN.png',dpi=600)"
   ]
  },
  {
   "cell_type": "code",
   "execution_count": null,
   "id": "e92c7797-af26-4372-9f94-3fec227e0c48",
   "metadata": {
    "tags": []
   },
   "outputs": [],
   "source": [
    "sns.barplot(data=no_reweigh_results, x='Race', y='TP', hue='Model')\n",
    "plt.ylim((-0.8,0.8))\n",
    "plt.title('PHQ-9 True Positives Before Reweighing')\n",
    "plt.savefig('No Reweigh TP.png',dpi=600)"
   ]
  },
  {
   "cell_type": "markdown",
   "id": "93527323-0c32-49cc-b1f7-69f5fc39454d",
   "metadata": {},
   "source": [
    "## With Reweighing"
   ]
  },
  {
   "cell_type": "code",
   "execution_count": null,
   "id": "55914eb3-1f69-4c18-8f1c-bac6edb6abae",
   "metadata": {
    "tags": []
   },
   "outputs": [],
   "source": [
    "sns.barplot(data=reweigh_results, x='Race', y='DI', hue='Model')\n",
    "plt.ylim((-0.8,0.8))\n",
    "plt.title('PHQ-9 Disparate Impact After Reweighing')\n",
    "plt.savefig('Reweigh DI.png',dpi=600)"
   ]
  },
  {
   "cell_type": "code",
   "execution_count": null,
   "id": "d97da82a-971a-4be6-ba0b-a631853fba42",
   "metadata": {
    "tags": []
   },
   "outputs": [],
   "source": [
    "sns.barplot(data=reweigh_results, x='Race', y='FN', hue='Model')\n",
    "plt.ylim((-0.8,0.8))\n",
    "plt.title('PHQ-9 False Negatives After Reweighing')\n",
    "plt.savefig('Reweigh FN.png',dpi=600)"
   ]
  },
  {
   "cell_type": "code",
   "execution_count": null,
   "id": "36fe7ee6-5024-4a0b-839d-b76c0cdca7fa",
   "metadata": {
    "tags": []
   },
   "outputs": [],
   "source": [
    "sns.barplot(data=reweigh_results, x='Race', y='TP', hue='Model')\n",
    "plt.ylim((-0.8,0.8))\n",
    "plt.title('PHQ-9 True Positives After Reweighing')\n",
    "plt.savefig('Reweigh TP.png',dpi=600)"
   ]
  },
  {
   "cell_type": "code",
   "execution_count": null,
   "id": "b9f11594-5cca-4820-adf7-88f36b1ff098",
   "metadata": {
    "tags": []
   },
   "outputs": [],
   "source": [
    "# save this file and output as html\n",
    "import os\n",
    "os.system('jupyter nbconvert --to html data_analysis_PHQ9.ipynb')"
   ]
  },
  {
   "cell_type": "code",
   "execution_count": null,
   "id": "d6ebe1ba-0cc7-4669-abdc-d51f42e7d8ac",
   "metadata": {},
   "outputs": [],
   "source": [
    "X_train.to_excel(\"X_train.xlsx\")\n",
    "y_train.to_excel(\"y_train.xlsx\")\n",
    "X_test.to_excel(\"X_test.xlsx\")\n",
    "y_test.to_excel(\"y_test.xlsx\")"
   ]
  },
  {
   "cell_type": "code",
   "execution_count": null,
   "id": "9e540101-8bae-4265-af8f-4429b2e3233e",
   "metadata": {},
   "outputs": [],
   "source": []
  }
 ],
 "metadata": {
  "kernelspec": {
   "display_name": "Python 3 (ipykernel)",
   "language": "python",
   "name": "python3"
  },
  "language_info": {
   "codemirror_mode": {
    "name": "ipython",
    "version": 3
   },
   "file_extension": ".py",
   "mimetype": "text/x-python",
   "name": "python",
   "nbconvert_exporter": "python",
   "pygments_lexer": "ipython3",
   "version": "3.11.5"
  }
 },
 "nbformat": 4,
 "nbformat_minor": 5
}
