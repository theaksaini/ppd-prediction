{
 "cells": [
  {
   "cell_type": "code",
   "execution_count": null,
   "id": "0476be48-9b90-447f-9043-2cf17a06abb4",
   "metadata": {
    "tags": []
   },
   "outputs": [],
   "source": [
    "import warnings\n",
    "warnings.filterwarnings('ignore')\n",
    "\n",
    "import seaborn as sns\n",
    "import matplotlib.pyplot as plt\n",
    "import pandas as pd"
   ]
  },
  {
   "cell_type": "markdown",
   "id": "3bc8a30d-9762-4729-9b26-3b6983e20958",
   "metadata": {},
   "source": [
    "# Bias Measures"
   ]
  },
  {
   "cell_type": "code",
   "execution_count": null,
   "id": "03bf9bb7-cd01-4e91-b7be-d6bc3eaec411",
   "metadata": {
    "tags": []
   },
   "outputs": [],
   "source": [
    "PHQ9 = pd.read_excel(\"PHQ9_no_reweigh_results_boot.xlsx\")\n",
    "PHQ9_rw = pd.read_excel(\"PHQ9_reweigh_results_boot.xlsx\")\n",
    "EPDS = pd.read_excel(\"EPDS_no_reweigh_results_boot.xlsx\")\n",
    "EPDS_rw = pd.read_excel(\"EPDS_reweigh_results_boot.xlsx\")"
   ]
  },
  {
   "cell_type": "code",
   "execution_count": null,
   "id": "4d60f636-34d5-449b-aad0-ab266ad11d6a",
   "metadata": {
    "tags": []
   },
   "outputs": [],
   "source": [
    "PHQ9['Scale'] = 'PHQ9'\n",
    "PHQ9_rw['Scale'] = 'PHQ9'\n",
    "EPDS['Scale'] = 'EPDS'\n",
    "EPDS_rw['Scale'] = 'EPDS'\n",
    "\n",
    "PHQ9['Reweigh'] = 'Before'\n",
    "PHQ9_rw['Reweigh'] = 'After'\n",
    "EPDS['Reweigh'] = 'Before'\n",
    "EPDS_rw['Reweigh'] = 'After'"
   ]
  },
  {
   "cell_type": "code",
   "execution_count": null,
   "id": "ce7ea52a-41bb-4374-a0ae-b06d1659f7d5",
   "metadata": {
    "tags": []
   },
   "outputs": [],
   "source": [
    "all_results = pd.concat([PHQ9,PHQ9_rw,EPDS,EPDS_rw],axis=0)\n",
    "del all_results[all_results.columns[0]]"
   ]
  },
  {
   "cell_type": "code",
   "execution_count": null,
   "id": "cfc68efd-1ff8-4dfa-912c-e3505d00da1c",
   "metadata": {
    "tags": []
   },
   "outputs": [],
   "source": [
    "all_results['Race'] = all_results['Race'].str[9:]"
   ]
  },
  {
   "cell_type": "code",
   "execution_count": null,
   "id": "e392c67a-fb7a-48dd-a6d2-01350eed6c7c",
   "metadata": {
    "tags": []
   },
   "outputs": [],
   "source": [
    "all_results['Race'] = all_results['Race'].replace({'Asian or Native Hawaiian or Other Pacific Islander':'AAPI', \n",
    "                                                   'Black or African American':'Black',\n",
    "                                                   'Multiracial':'Multi',\n",
    "                                                   'Hispanic White':'Hispanic'})"
   ]
  },
  {
   "cell_type": "code",
   "execution_count": null,
   "id": "16d57a02-9655-4586-aaf1-b1a00c0671e8",
   "metadata": {
    "tags": []
   },
   "outputs": [],
   "source": [
    "fig = sns.catplot(data=all_results[all_results['DP'].notnull()], x='Race', y='DP', hue='Model', row='Scale', col='Reweigh', kind='bar')\n",
    "fig.refline(y=0, color='red')\n",
    "plt.savefig('DP (boot).png',dpi=600)"
   ]
  },
  {
   "cell_type": "code",
   "execution_count": null,
   "id": "340d07e3-c900-4a66-899e-855b3ca758eb",
   "metadata": {
    "tags": []
   },
   "outputs": [],
   "source": [
    "fig = sns.catplot(data=all_results[all_results['FN'].notnull()], x='Race', y='FN', hue='Model', row='Scale', col='Reweigh', kind='bar')\n",
    "fig.refline(y=0, color='red')\n",
    "plt.savefig('FN (boot).png',dpi=600)"
   ]
  },
  {
   "cell_type": "code",
   "execution_count": null,
   "id": "77e4f571-7bba-4bda-8154-5e07cbb2d069",
   "metadata": {
    "tags": []
   },
   "outputs": [],
   "source": [
    "fig = sns.catplot(data=all_results[all_results['TP'].notnull()], x='Race', y='TP', hue='Model', row='Scale', col='Reweigh', kind='bar')\n",
    "fig.refline(y=0, color='red')\n",
    "plt.savefig('TP (boot).png',dpi=600)"
   ]
  },
  {
   "cell_type": "code",
   "execution_count": null,
   "id": "61847899-245f-4ab0-95f7-8a781008f174",
   "metadata": {
    "tags": []
   },
   "outputs": [],
   "source": [
    "all_results"
   ]
  },
  {
   "cell_type": "code",
   "execution_count": null,
   "id": "ae112b52-0a17-45f7-a678-3434cc9b784f",
   "metadata": {
    "tags": []
   },
   "outputs": [],
   "source": [
    "auc_results = all_results.iloc[::6]"
   ]
  },
  {
   "cell_type": "code",
   "execution_count": null,
   "id": "d489abf1-db99-4391-83c9-19fb0506896c",
   "metadata": {
    "tags": []
   },
   "outputs": [],
   "source": [
    "fig = sns.catplot(data=auc_results[auc_results['AUC'].notnull()], x='Model', y='AUC', hue='Model', row='Scale', col='Reweigh', kind='bar')\n",
    "fig.refline(y=0, color='red')\n",
    "plt.ylim(0.6, 0.72)\n",
    "plt.savefig('AUC boot.png',dpi=600)"
   ]
  },
  {
   "cell_type": "code",
   "execution_count": null,
   "id": "d98cb404-095d-4ac6-8325-83da6810de8c",
   "metadata": {
    "tags": []
   },
   "outputs": [],
   "source": [
    "pd.pivot_table(auc_results,values='AUC',index=['Model','Reweigh'],columns='Scale')"
   ]
  },
  {
   "cell_type": "code",
   "execution_count": null,
   "id": "960008dd-15b3-4f87-b128-df3f5d0bd67c",
   "metadata": {
    "tags": []
   },
   "outputs": [],
   "source": [
    "fig = sns.catplot(data=auc_results[auc_results['BA'].notnull()], x='Model', y='BA', hue='Model', row='Scale', col='Reweigh', kind='bar')\n",
    "fig.refline(y=0, color='red')\n",
    "plt.ylim(0.6, 0.72)\n",
    "plt.savefig('BA boot.png',dpi=600)"
   ]
  },
  {
   "cell_type": "code",
   "execution_count": null,
   "id": "50a9dea9-ebf8-4a2f-9f06-4f406b19d311",
   "metadata": {},
   "outputs": [],
   "source": [
    "pd.pivot_table(auc_results,values='BA',index=['Model','Reweigh'],columns='Scale')"
   ]
  },
  {
   "cell_type": "code",
   "execution_count": null,
   "id": "dd6eded0-7212-4c21-b095-5b9e02fa0129",
   "metadata": {},
   "outputs": [],
   "source": []
  }
 ],
 "metadata": {
  "kernelspec": {
   "display_name": "Python 3 (ipykernel)",
   "language": "python",
   "name": "python3"
  },
  "language_info": {
   "codemirror_mode": {
    "name": "ipython",
    "version": 3
   },
   "file_extension": ".py",
   "mimetype": "text/x-python",
   "name": "python",
   "nbconvert_exporter": "python",
   "pygments_lexer": "ipython3",
   "version": "3.11.5"
  }
 },
 "nbformat": 4,
 "nbformat_minor": 5
}
